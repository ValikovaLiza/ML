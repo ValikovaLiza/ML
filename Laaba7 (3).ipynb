{
 "cells": [
  {
   "cell_type": "code",
   "execution_count": 1,
   "id": "bb99247e-5d90-4f89-b49b-0796c06cf8e0",
   "metadata": {},
   "outputs": [],
   "source": [
    "import pandas as pd\n",
    "import matplotlib.pyplot as plt\n",
    "import numpy as np\n",
    "import seaborn as sns\n",
    "import warnings\n",
    "from imblearn.under_sampling import NearMiss\n",
    "from sklearn.model_selection import train_test_split\n",
    "from sklearn.preprocessing import StandardScaler\n",
    "\n",
    "from sklearn.metrics import mean_squared_error, mean_absolute_error\n",
    "from sklearn.metrics import confusion_matrix, classification_report\n",
    "\n",
    "import tensorflow as tf\n",
    "import numpy as np"
   ]
  },
  {
   "cell_type": "markdown",
   "id": "ee4f79db-de36-422a-ac96-8fc46d2e5fc3",
   "metadata": {},
   "source": [
    "# Regression"
   ]
  },
  {
   "cell_type": "code",
   "execution_count": 139,
   "id": "509aa124-82f7-4a37-bfe2-7172f09eb81e",
   "metadata": {},
   "outputs": [],
   "source": [
    "df_regression = pd.read_csv('DataSet3_fil.csv')\n",
    "df_regression.drop('Unnamed: 0',axis=1, inplace=True)"
   ]
  },
  {
   "cell_type": "code",
   "execution_count": 140,
   "id": "e8da477b-2c83-4c4f-92ee-847cc63cd767",
   "metadata": {},
   "outputs": [],
   "source": [
    "y_regression = df_regression[\"price\"]\n",
    "X_regression = df_regression.drop([\"price\"], axis=1)"
   ]
  },
  {
   "cell_type": "code",
   "execution_count": 141,
   "id": "30c0ad6d-da60-4940-b5a6-87b9a1855b9e",
   "metadata": {},
   "outputs": [],
   "source": [
    "X_train_regression, X_test_regression, y_train_regression, y_test_regression = train_test_split(X_regression, y_regression, test_size=0.2)"
   ]
  },
  {
   "cell_type": "code",
   "execution_count": 142,
   "id": "e5b384dd-a402-4010-be1a-3333abd851ff",
   "metadata": {},
   "outputs": [],
   "source": [
    "# создаем модель, как набор последовательных слоев\n",
    "model_regression = tf.keras.Sequential(\n",
    "    [\n",
    "        # Dense - полносвязный слой (каждый нейрон следующего слоя связан со всеми нейронами предыдущего)\n",
    "        tf.keras.layers.Dense(64, activation=\"relu\", input_shape=(13,)),\n",
    "        # на втором скрытом слое будет 32 нейрона\n",
    "        tf.keras.layers.Dense(32, activation=\"linear\"),\n",
    "        # Dropout позволяет внести фактор случайности - при обучении часть нейронов будет отключаться\n",
    "        # каждый нейрон, в данном случае, будет отключаться с вероятностью 0.1\n",
    "        tf.keras.layers.Dropout(0.1),\n",
    "        tf.keras.layers.Dense(16, activation=\"relu\"),\n",
    "        tf.keras.layers.Dropout(0.1),\n",
    "        # на выходе один нейрон, функция активации не применяется\n",
    "        tf.keras.layers.Dense(1, activation=\"linear\"),\n",
    "    ]\n",
    ")"
   ]
  },
  {
   "cell_type": "code",
   "execution_count": 143,
   "id": "dae3c56f-20dc-4faf-92fc-94894306b12a",
   "metadata": {},
   "outputs": [
    {
     "name": "stdout",
     "output_type": "stream",
     "text": [
      "Model: \"sequential_4\"\n",
      "_________________________________________________________________\n",
      " Layer (type)                Output Shape              Param #   \n",
      "=================================================================\n",
      " dense_20 (Dense)            (None, 64)                896       \n",
      "                                                                 \n",
      " dense_21 (Dense)            (None, 32)                2080      \n",
      "                                                                 \n",
      " dropout_6 (Dropout)         (None, 32)                0         \n",
      "                                                                 \n",
      " dense_22 (Dense)            (None, 16)                528       \n",
      "                                                                 \n",
      " dropout_7 (Dropout)         (None, 16)                0         \n",
      "                                                                 \n",
      " dense_23 (Dense)            (None, 1)                 17        \n",
      "                                                                 \n",
      "=================================================================\n",
      "Total params: 3521 (13.75 KB)\n",
      "Trainable params: 3521 (13.75 KB)\n",
      "Non-trainable params: 0 (0.00 Byte)\n",
      "_________________________________________________________________\n"
     ]
    }
   ],
   "source": [
    "model_regression.summary()"
   ]
  },
  {
   "cell_type": "code",
   "execution_count": 144,
   "id": "9446643b-c260-4fc7-aada-8ce9a9a3dfb5",
   "metadata": {},
   "outputs": [],
   "source": [
    "# компилируем\n",
    "model_regression.compile(optimizer=tf.keras.optimizers.Adam(learning_rate=0.005), loss=\"mse\")"
   ]
  },
  {
   "cell_type": "code",
   "execution_count": 146,
   "id": "b7a913e9-ade7-406e-9911-3ce672d23874",
   "metadata": {},
   "outputs": [],
   "source": [
    "X_train_regression = X_train_regression.astype('float32')\n",
    "y_train_regression = y_train_regression.astype('float32')"
   ]
  },
  {
   "cell_type": "code",
   "execution_count": 147,
   "id": "b488a168-59b2-4a99-8767-8c78f913176a",
   "metadata": {},
   "outputs": [
    {
     "data": {
      "text/plain": [
       "<keras.src.callbacks.History at 0x23e6e00b2d0>"
      ]
     },
     "execution_count": 147,
     "metadata": {},
     "output_type": "execute_result"
    }
   ],
   "source": [
    "# обучаем, 50 эпох означает 50 проходов по обучающей выборке\n",
    "model_regression.fit(X_train_regression, y_train_regression, epochs=50, verbose=None)"
   ]
  },
  {
   "cell_type": "code",
   "execution_count": 41,
   "id": "e4fb3da7-0db2-43b2-85d9-aae92d4b1073",
   "metadata": {},
   "outputs": [],
   "source": [
    "X_test_regression = X_train_regression.astype('float32')\n",
    "y_test_regression = y_train_regression.astype('float32')"
   ]
  },
  {
   "cell_type": "code",
   "execution_count": 42,
   "id": "f624d77b-1768-40f1-8d2b-b81ec1faf406",
   "metadata": {},
   "outputs": [
    {
     "name": "stdout",
     "output_type": "stream",
     "text": [
      "156/156 [==============================] - 1s 2ms/step\n"
     ]
    }
   ],
   "source": [
    "y_pred_regression = model_regression.predict(X_test_regression)"
   ]
  },
  {
   "cell_type": "code",
   "execution_count": 43,
   "id": "353c1d3a-d6a7-4076-95da-cac87a814d5a",
   "metadata": {},
   "outputs": [
    {
     "name": "stdout",
     "output_type": "stream",
     "text": [
      "10897280.0\n",
      "350402160000000.0\n",
      "0.5055344899512042\n"
     ]
    }
   ],
   "source": [
    "from sklearn.metrics import r2_score\n",
    "# оцениваем качество с помощью метрик\n",
    "print(mean_absolute_error(y_test_regression, y_pred_regression))\n",
    "print(mean_squared_error(y_test_regression, y_pred_regression))\n",
    "print(r2_score(y_test_regression, y_pred_regression))"
   ]
  },
  {
   "cell_type": "markdown",
   "id": "ef733fad-cfc0-400d-b9bd-e8faf491e344",
   "metadata": {},
   "source": [
    "# Classification"
   ]
  },
  {
   "cell_type": "code",
   "execution_count": 45,
   "id": "4232f64a-7572-4779-8988-5cf1a3d6dc26",
   "metadata": {},
   "outputs": [],
   "source": [
    "df_classifier = pd.read_csv('DataSet4_fil.csv')\n",
    "df_classifier.drop('Unnamed: 0',axis=1, inplace=True)\n"
   ]
  },
  {
   "cell_type": "code",
   "execution_count": 46,
   "id": "9edfead0-2396-4c70-a42b-6bcd6a1fb9fe",
   "metadata": {},
   "outputs": [
    {
     "data": {
      "text/html": [
       "<div>\n",
       "<style scoped>\n",
       "    .dataframe tbody tr th:only-of-type {\n",
       "        vertical-align: middle;\n",
       "    }\n",
       "\n",
       "    .dataframe tbody tr th {\n",
       "        vertical-align: top;\n",
       "    }\n",
       "\n",
       "    .dataframe thead th {\n",
       "        text-align: right;\n",
       "    }\n",
       "</style>\n",
       "<table border=\"1\" class=\"dataframe\">\n",
       "  <thead>\n",
       "    <tr style=\"text-align: right;\">\n",
       "      <th></th>\n",
       "      <th>Temperature[C]</th>\n",
       "      <th>Humidity[%]</th>\n",
       "      <th>TVOC[ppb]</th>\n",
       "      <th>eCO2[ppm]</th>\n",
       "      <th>Raw H2</th>\n",
       "      <th>Raw Ethanol</th>\n",
       "      <th>Pressure[hPa]</th>\n",
       "      <th>PM1.0</th>\n",
       "      <th>PM2.5</th>\n",
       "      <th>NC0.5</th>\n",
       "      <th>NC1.0</th>\n",
       "      <th>NC2.5</th>\n",
       "      <th>CNT</th>\n",
       "      <th>Fire Alarm</th>\n",
       "    </tr>\n",
       "  </thead>\n",
       "  <tbody>\n",
       "    <tr>\n",
       "      <th>0</th>\n",
       "      <td>23.056</td>\n",
       "      <td>51.11</td>\n",
       "      <td>1.0</td>\n",
       "      <td>400.0</td>\n",
       "      <td>12626.0</td>\n",
       "      <td>19698</td>\n",
       "      <td>939.810</td>\n",
       "      <td>0.08</td>\n",
       "      <td>0.14</td>\n",
       "      <td>0.43</td>\n",
       "      <td>0.156</td>\n",
       "      <td>0.056</td>\n",
       "      <td>240</td>\n",
       "      <td>0</td>\n",
       "    </tr>\n",
       "    <tr>\n",
       "      <th>1</th>\n",
       "      <td>23.131</td>\n",
       "      <td>50.08</td>\n",
       "      <td>5.0</td>\n",
       "      <td>400.0</td>\n",
       "      <td>12633.0</td>\n",
       "      <td>19696</td>\n",
       "      <td>939.813</td>\n",
       "      <td>0.09</td>\n",
       "      <td>0.17</td>\n",
       "      <td>0.46</td>\n",
       "      <td>0.189</td>\n",
       "      <td>0.074</td>\n",
       "      <td>247</td>\n",
       "      <td>0</td>\n",
       "    </tr>\n",
       "    <tr>\n",
       "      <th>2</th>\n",
       "      <td>23.142</td>\n",
       "      <td>50.00</td>\n",
       "      <td>0.0</td>\n",
       "      <td>400.0</td>\n",
       "      <td>12629.0</td>\n",
       "      <td>19704</td>\n",
       "      <td>939.790</td>\n",
       "      <td>0.10</td>\n",
       "      <td>0.17</td>\n",
       "      <td>0.49</td>\n",
       "      <td>0.189</td>\n",
       "      <td>0.072</td>\n",
       "      <td>248</td>\n",
       "      <td>0</td>\n",
       "    </tr>\n",
       "    <tr>\n",
       "      <th>3</th>\n",
       "      <td>23.153</td>\n",
       "      <td>49.85</td>\n",
       "      <td>12.0</td>\n",
       "      <td>400.0</td>\n",
       "      <td>12630.0</td>\n",
       "      <td>19698</td>\n",
       "      <td>939.791</td>\n",
       "      <td>0.10</td>\n",
       "      <td>0.18</td>\n",
       "      <td>0.50</td>\n",
       "      <td>0.195</td>\n",
       "      <td>0.074</td>\n",
       "      <td>249</td>\n",
       "      <td>0</td>\n",
       "    </tr>\n",
       "    <tr>\n",
       "      <th>4</th>\n",
       "      <td>23.163</td>\n",
       "      <td>49.71</td>\n",
       "      <td>11.0</td>\n",
       "      <td>400.0</td>\n",
       "      <td>12637.0</td>\n",
       "      <td>19710</td>\n",
       "      <td>939.812</td>\n",
       "      <td>0.10</td>\n",
       "      <td>0.17</td>\n",
       "      <td>0.49</td>\n",
       "      <td>0.192</td>\n",
       "      <td>0.073</td>\n",
       "      <td>250</td>\n",
       "      <td>0</td>\n",
       "    </tr>\n",
       "  </tbody>\n",
       "</table>\n",
       "</div>"
      ],
      "text/plain": [
       "   Temperature[C]  Humidity[%]  TVOC[ppb]  eCO2[ppm]   Raw H2  Raw Ethanol  \\\n",
       "0          23.056        51.11        1.0      400.0  12626.0        19698   \n",
       "1          23.131        50.08        5.0      400.0  12633.0        19696   \n",
       "2          23.142        50.00        0.0      400.0  12629.0        19704   \n",
       "3          23.153        49.85       12.0      400.0  12630.0        19698   \n",
       "4          23.163        49.71       11.0      400.0  12637.0        19710   \n",
       "\n",
       "   Pressure[hPa]  PM1.0  PM2.5  NC0.5  NC1.0  NC2.5  CNT  Fire Alarm  \n",
       "0        939.810   0.08   0.14   0.43  0.156  0.056  240           0  \n",
       "1        939.813   0.09   0.17   0.46  0.189  0.074  247           0  \n",
       "2        939.790   0.10   0.17   0.49  0.189  0.072  248           0  \n",
       "3        939.791   0.10   0.18   0.50  0.195  0.074  249           0  \n",
       "4        939.812   0.10   0.17   0.49  0.192  0.073  250           0  "
      ]
     },
     "execution_count": 46,
     "metadata": {},
     "output_type": "execute_result"
    }
   ],
   "source": [
    "df_classifier.head()"
   ]
  },
  {
   "cell_type": "code",
   "execution_count": 47,
   "id": "d99203a1-1434-4297-8446-be8822e7d467",
   "metadata": {},
   "outputs": [],
   "source": [
    "scaler = StandardScaler()\n",
    "data_scaler = scaler.fit_transform(df_classifier.drop([\"Fire Alarm\"], axis=1))"
   ]
  },
  {
   "cell_type": "code",
   "execution_count": 48,
   "id": "b3cac9fe-df14-4b39-a9d6-55902e0ff660",
   "metadata": {},
   "outputs": [],
   "source": [
    "y_classifier = df_classifier[\"Fire Alarm\"]\n",
    "X_classifier = data_scaler\n",
    "\n",
    "#X_classifier, _, y_classifier, _ = train_test_split(X_classifier, y_classifier, test_size=0.9, random_state=42)"
   ]
  },
  {
   "cell_type": "code",
   "execution_count": 37,
   "id": "1ab6e0e2-18df-4b3c-940c-5ade19b1ccbd",
   "metadata": {},
   "outputs": [],
   "source": [
    "from imblearn.under_sampling import NearMiss\n",
    "nm = NearMiss()\n",
    "X_classifier, y_classifier = nm.fit_resample(X_classifier, y_classifier.ravel())"
   ]
  },
  {
   "cell_type": "code",
   "execution_count": 49,
   "id": "5313ced5-38fe-4af2-ad96-877288719716",
   "metadata": {},
   "outputs": [],
   "source": [
    "X_train_classifier, X_test_classifier, y_train_classifier, y_test_classifier = train_test_split(X_classifier, y_classifier, test_size=0.2)"
   ]
  },
  {
   "cell_type": "code",
   "execution_count": 50,
   "id": "0c88a786-bce5-4e34-809e-b0817daaaa6a",
   "metadata": {},
   "outputs": [],
   "source": [
    "model_classification = tf.keras.Sequential(\n",
    "    [\n",
    "        tf.keras.layers.Dense(64, activation=\"relu\", input_shape=(13,)),\n",
    "        tf.keras.layers.Dense(128, activation=\"relu\"),\n",
    "        tf.keras.layers.Dropout(0.05),\n",
    "        tf.keras.layers.Dense(64, activation=\"relu\"),\n",
    "        tf.keras.layers.Dense(32, activation=\"relu\"),\n",
    "        tf.keras.layers.Dense(16, activation=\"relu\"),\n",
    "        # используем 1 нейрон и sigmoid\n",
    "        tf.keras.layers.Dense(1, activation=\"sigmoid\"),\n",
    "    ]\n",
    ")"
   ]
  },
  {
   "cell_type": "code",
   "execution_count": 57,
   "id": "6b6d8822-4759-4d74-b874-5498c4242ebd",
   "metadata": {},
   "outputs": [],
   "source": [
    "# в качестве функции активации используется бинарная  кроссэнтропия\n",
    "model_classification.compile(optimizer=tf.keras.optimizers.Adam(learning_rate=0.001), loss=\"mse\")"
   ]
  },
  {
   "cell_type": "code",
   "execution_count": 58,
   "id": "52d717ad-82f4-4522-939e-255ac67d27a9",
   "metadata": {},
   "outputs": [],
   "source": [
    "w0 = 1 / y_train_classifier[y_train_classifier==0].shape[0]\n",
    "w1 = 1 / y_train_classifier[y_train_classifier==1].shape[0]"
   ]
  },
  {
   "cell_type": "code",
   "execution_count": 59,
   "id": "9226f3ec-5e69-4aea-a201-4401cb5d931b",
   "metadata": {},
   "outputs": [
    {
     "data": {
      "text/plain": [
       "<keras.src.callbacks.History at 0x17709860510>"
      ]
     },
     "execution_count": 59,
     "metadata": {},
     "output_type": "execute_result"
    }
   ],
   "source": [
    "# verbose=None - не будет логов\n",
    "model_classification.fit(X_train_classifier, y_train_classifier, epochs=25, verbose=None,\n",
    "                           class_weight={0: w0, 1: w1})"
   ]
  },
  {
   "cell_type": "code",
   "execution_count": 61,
   "id": "fcaeae47-291d-4201-9cd4-7405f0862232",
   "metadata": {},
   "outputs": [],
   "source": [
    "y_pred = np.around(model_classification.predict(X_test_classifier, verbose=None))"
   ]
  },
  {
   "cell_type": "code",
   "execution_count": 62,
   "id": "2da0023e-fc95-43ab-97b3-7eff0bae95b3",
   "metadata": {},
   "outputs": [
    {
     "name": "stdout",
     "output_type": "stream",
     "text": [
      "              precision    recall  f1-score   support\n",
      "\n",
      "         0.0       1.00      1.00      1.00       969\n",
      "         1.0       1.00      1.00      1.00      6047\n",
      "\n",
      "    accuracy                           1.00      7016\n",
      "   macro avg       1.00      1.00      1.00      7016\n",
      "weighted avg       1.00      1.00      1.00      7016\n",
      "\n"
     ]
    }
   ],
   "source": [
    "print(classification_report(y_test_classifier, y_pred))"
   ]
  },
  {
   "cell_type": "markdown",
   "id": "2700b575-0cbc-4b8a-922f-0e769bf8cb73",
   "metadata": {},
   "source": [
    "# MLP"
   ]
  },
  {
   "cell_type": "code",
   "execution_count": 78,
   "id": "33c649ad-5d05-4621-891a-9a7ea24e5234",
   "metadata": {},
   "outputs": [],
   "source": [
    "import numpy as np\n",
    "\n",
    "class MLP:\n",
    "    def __init__(self, layer_sizes, activation_functions):\n",
    "        self.num_layers = len(layer_sizes)\n",
    "        self.layer_sizes = layer_sizes\n",
    "        self.activation_functions = activation_functions\n",
    "        self.weights = [np.random.randn(layer_sizes[i], layer_sizes[i-1]) for i in range(1, self.num_layers)]\n",
    "        self.biases = [np.random.randn(layer_sizes[i], 1) for i in range(1, self.num_layers)]\n",
    "\n",
    "    def _sigmoid(self, x):\n",
    "        return 1.0 / (1.0 + np.exp(-x))\n",
    "\n",
    "    def _sigmoid_derivative(self, x):\n",
    "        return self._sigmoid(x) * (1 - self._sigmoid(x))\n",
    "\n",
    "    def _tanh(self, x):\n",
    "        return np.tanh(x)\n",
    "\n",
    "    def _tanh_derivative(self, x):\n",
    "        return 1 - np.tanh(x)**2\n",
    "\n",
    "    def _relu(self, x):\n",
    "        return np.maximum(0, x)\n",
    "\n",
    "    def _relu_derivative(self, x):\n",
    "        return np.where(x > 0, 1, 0)\n",
    "\n",
    "    def _feed_forward(self, x):\n",
    "        # х-ый элеменет\n",
    "        activations = [x]\n",
    "        zs = []\n",
    "        for i in range(self.num_layers - 1):\n",
    "            weight = self.weights[i]\n",
    "            bias = self.biases[i]\n",
    "            activation_fn = self.activation_functions[i]\n",
    "            #умножаем матрицу весов на вектор активаций последнего слоя + вектор смещения\n",
    "            z = np.dot(weight, activations[-1]) + bias\n",
    "            zs.append(z)\n",
    "            if activation_fn == 'sigmoid':\n",
    "                a = self._sigmoid(z)\n",
    "            elif activation_fn == 'tanh':\n",
    "                a = self._tanh(z)\n",
    "            elif activation_fn == 'relu':\n",
    "                a = self._relu(z)\n",
    "            activations.append(a)\n",
    "        return activations, zs\n",
    "\n",
    "    def _backpropagate(self, x, y):\n",
    "        # накопление градиентов функции потерь по весам и смещениям в каждом слое сети\n",
    "        delta_weights = [np.zeros(weight.shape) for weight in self.weights]\n",
    "        delta_biases = [np.zeros(bias.shape) for bias in self.biases]\n",
    "        # прямой проход сети для входных данных x, и сохраняются активации и взвешенные суммы для каждого слоя \n",
    "        activations, zs = self._feed_forward(x)\n",
    "        #разница между предсказанными активациями и фактическими значениями целевой переменной\n",
    "        delta = (activations[-1] - y) \n",
    "        for i in range(self.num_layers - 2, -1, -1):\n",
    "            # Получение взвешенной суммы\n",
    "            z = zs[i]\n",
    "            activation_fn = self.activation_functions[i]\n",
    "            if activation_fn == 'sigmoid':\n",
    "                derivative = self._sigmoid_derivative(z)\n",
    "            elif activation_fn == 'tanh':\n",
    "                derivative = self._tanh_derivative(z)\n",
    "            elif activation_fn == 'relu':\n",
    "                derivative = self._relu_derivative(z)\n",
    "            #Вычисление градиента по весам для текущего слоя\n",
    "            delta_weights[i] = np.dot(delta, activations[i].T)\n",
    "            delta_biases[i] = delta\n",
    "            delta = np.dot(self.weights[i].T, delta) * derivative\n",
    "        return delta_weights, delta_biases\n",
    "\n",
    "    def fit(self, X_train, y_train, learning_rate, num_epochs):\n",
    "        for epoch in range(num_epochs):\n",
    "            for x, y in zip(X_train, y_train):\n",
    "                x = np.array(x, ndmin=2).T\n",
    "                y = np.array(y, ndmin=2).T\n",
    "                delta_weights, delta_biases = self._backpropagate(x, y)\n",
    "                self.weights = [weight - learning_rate * d_weight for weight, d_weight in zip(self.weights, delta_weights)]\n",
    "                self.biases = [bias - learning_rate * d_bias for bias, d_bias in zip(self.biases, delta_biases)]\n",
    "\n",
    "    def predict(self, X_test):\n",
    "        predictions = []\n",
    "        for x in X_test:\n",
    "            # массив минимум 2мерный и транспонируем\n",
    "            x = np.array(x, ndmin=2).T\n",
    "            activations, _ = self._feed_forward(x)\n",
    "            predictions.append(activations[-1])\n",
    "        return predictions"
   ]
  },
  {
   "cell_type": "code",
   "execution_count": 101,
   "id": "a0d3187f-c538-44dc-8baa-60bcd9413fed",
   "metadata": {},
   "outputs": [
    {
     "name": "stderr",
     "output_type": "stream",
     "text": [
      "C:\\Users\\liza5\\AppData\\Local\\Temp\\ipykernel_6240\\375874291.py:12: RuntimeWarning: overflow encountered in exp\n",
      "  return 1.0 / (1.0 + np.exp(-x))\n"
     ]
    }
   ],
   "source": [
    "X_train_regression = np.asarray(X_train_regression, dtype=np.float64)\n",
    "y_train_regression = np.asarray(y_train_regression, dtype=np.float64).reshape(-1, 1)\n",
    "# Создание объекта MLP для регрессии\n",
    "mlp_regression = MLP([13, 1, 1], ['sigmoid', 'sigmoid'])\n",
    "\n",
    "# Обучаем модель\n",
    "mlp_regression.fit(X_train_regression, y_train_regression, learning_rate=0.05, num_epochs=10)\n",
    "\n",
    "X_test_regression = np.asarray(X_test_regression, dtype=np.float64)\n",
    "# Получаем предсказания модели\n",
    "predictions_regression = mlp_regression.predict(X_test_regression)"
   ]
  },
  {
   "cell_type": "code",
   "execution_count": 108,
   "id": "ed74c95b-f67c-47f0-a6ed-2d3dffa8e6c8",
   "metadata": {},
   "outputs": [],
   "source": [
    "predictions_regression = np.asarray(predictions_regression, dtype=np.float64).reshape(-1, 1)"
   ]
  },
  {
   "cell_type": "code",
   "execution_count": 109,
   "id": "66ba33fd-4a6f-466d-b8e0-ad8812149c07",
   "metadata": {},
   "outputs": [
    {
     "name": "stdout",
     "output_type": "stream",
     "text": [
      "26554378.635197435\n",
      "1413783283471718.5\n",
      "-0.995042344314857\n"
     ]
    }
   ],
   "source": [
    "y_test_regression = np.asarray(y_test_regression, dtype=np.float64).reshape(-1, 1)\n",
    "from sklearn.metrics import r2_score\n",
    "print(mean_absolute_error(y_test_regression, predictions_regression))\n",
    "print(mean_squared_error(y_test_regression, predictions_regression))\n",
    "print(r2_score(y_test_regression, predictions_regression))"
   ]
  },
  {
   "cell_type": "code",
   "execution_count": 121,
   "id": "bfac279c-1a42-4531-8505-3addb9e1ad95",
   "metadata": {},
   "outputs": [],
   "source": [
    "mlp_classifier = MLP([14, 1, 1, 1], ['tanh', 'relu', 'sigmoid'])\n",
    "\n",
    "mlp_classifier.fit(X_train_classifier, y_train_classifier, learning_rate=0.05, num_epochs=10)\n",
    "\n",
    "X_test_classifier = np.asarray(X_test_classifier, dtype=np.float64)\n",
    "# Получаем предсказания модели\n",
    "predictions_classifier = mlp_classifier.predict(X_test_classifier)"
   ]
  },
  {
   "cell_type": "code",
   "execution_count": 129,
   "id": "ecf02c74-0fc0-4a69-ad76-81d0b1c43b85",
   "metadata": {},
   "outputs": [],
   "source": [
    "predictions_classifier=np.asarray(predictions_classifier, dtype=np.float64).reshape(-1, 1)"
   ]
  },
  {
   "cell_type": "code",
   "execution_count": 136,
   "id": "5c1ae3b8-411a-4f3c-9510-74c239913515",
   "metadata": {},
   "outputs": [
    {
     "name": "stdout",
     "output_type": "stream",
     "text": [
      "Accuracy: 0.7150837988826816\n"
     ]
    }
   ],
   "source": [
    "from sklearn.metrics import accuracy_score\n",
    "accuracy = accuracy_score(y_test_classifier, predictions_classifier[:1253])\n",
    "print(\"Accuracy:\", accuracy)"
   ]
  },
  {
   "cell_type": "code",
   "execution_count": null,
   "id": "31e29854-4395-4986-b098-a69dac72576f",
   "metadata": {},
   "outputs": [],
   "source": []
  }
 ],
 "metadata": {
  "kernelspec": {
   "display_name": "Python 3 (ipykernel)",
   "language": "python",
   "name": "python3"
  },
  "language_info": {
   "codemirror_mode": {
    "name": "ipython",
    "version": 3
   },
   "file_extension": ".py",
   "mimetype": "text/x-python",
   "name": "python",
   "nbconvert_exporter": "python",
   "pygments_lexer": "ipython3",
   "version": "3.11.4"
  }
 },
 "nbformat": 4,
 "nbformat_minor": 5
}
