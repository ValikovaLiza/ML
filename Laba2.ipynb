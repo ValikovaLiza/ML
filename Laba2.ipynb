{
 "cells": [
  {
   "cell_type": "code",
   "execution_count": 108,
   "id": "7e6c08d0-6691-4869-9d8c-63e29835c66a",
   "metadata": {},
   "outputs": [],
   "source": [
    "import pandas as pd\n",
    "import matplotlib.pyplot as plt\n",
    "import numpy as np\n",
    "import seaborn as sns\n",
    "import warnings"
   ]
  },
  {
   "cell_type": "code",
   "execution_count": 109,
   "id": "fcc88b3a-d5b1-4221-9519-6b40a46ebbbf",
   "metadata": {},
   "outputs": [],
   "source": [
    "data= pd.read_csv('Dataset2 (1).csv')"
   ]
  },
  {
   "cell_type": "code",
   "execution_count": 110,
   "id": "cf2e323c-927a-4a68-831c-4ddb2d20edf4",
   "metadata": {},
   "outputs": [
    {
     "name": "stdout",
     "output_type": "stream",
     "text": [
      "<class 'pandas.core.frame.DataFrame'>\n",
      "RangeIndex: 571 entries, 0 to 570\n",
      "Data columns (total 30 columns):\n",
      " #   Column                            Non-Null Count  Dtype  \n",
      "---  ------                            --------------  -----  \n",
      " 0   Unnamed: 0                        571 non-null    int64  \n",
      " 1   Film                              571 non-null    object \n",
      " 2   Oscar Year                        571 non-null    object \n",
      " 3   Film Studio/Producer(s)           571 non-null    object \n",
      " 4   Award                             571 non-null    object \n",
      " 5   Year of Release                   571 non-null    int64  \n",
      " 6   Movie Time                        571 non-null    int64  \n",
      " 7   Movie Genre                       571 non-null    object \n",
      " 8   IMDB Rating                       571 non-null    float64\n",
      " 9   IMDB Votes                        571 non-null    object \n",
      " 10  Movie Info                        438 non-null    object \n",
      " 11  Genres                            439 non-null    object \n",
      " 12  Critic Consensus                  339 non-null    object \n",
      " 13  Content Rating                    439 non-null    object \n",
      " 14  Directors                         437 non-null    object \n",
      " 15  Authors                           437 non-null    object \n",
      " 16  Actors                            439 non-null    object \n",
      " 17  Original Release Date             439 non-null    object \n",
      " 18  Streaming Release Date            438 non-null    object \n",
      " 19  Production Company                439 non-null    object \n",
      " 20  Tomatometer Status                439 non-null    object \n",
      " 21  Tomatometer Rating                439 non-null    float64\n",
      " 22  Tomatometer Count                 439 non-null    float64\n",
      " 23  Audience Status                   436 non-null    object \n",
      " 24  Audience Rating                   439 non-null    float64\n",
      " 25  Audience Count                    439 non-null    float64\n",
      " 26  Tomatometer Top Critics Count     439 non-null    float64\n",
      " 27  Tomatometer Fresh Critics Count   439 non-null    float64\n",
      " 28  Tomatometer Rotten Critics Count  439 non-null    float64\n",
      " 29  Film ID                           571 non-null    object \n",
      "dtypes: float64(8), int64(3), object(19)\n",
      "memory usage: 134.0+ KB\n"
     ]
    }
   ],
   "source": [
    "data.info()"
   ]
  },
  {
   "cell_type": "code",
   "execution_count": 111,
   "id": "985c9ab1-d1b7-41a5-b2f5-9602a890946d",
   "metadata": {},
   "outputs": [
    {
     "data": {
      "text/html": [
       "<div>\n",
       "<style scoped>\n",
       "    .dataframe tbody tr th:only-of-type {\n",
       "        vertical-align: middle;\n",
       "    }\n",
       "\n",
       "    .dataframe tbody tr th {\n",
       "        vertical-align: top;\n",
       "    }\n",
       "\n",
       "    .dataframe thead th {\n",
       "        text-align: right;\n",
       "    }\n",
       "</style>\n",
       "<table border=\"1\" class=\"dataframe\">\n",
       "  <thead>\n",
       "    <tr style=\"text-align: right;\">\n",
       "      <th></th>\n",
       "      <th>Unnamed: 0</th>\n",
       "      <th>Film</th>\n",
       "      <th>Oscar Year</th>\n",
       "      <th>Film Studio/Producer(s)</th>\n",
       "      <th>Award</th>\n",
       "      <th>Year of Release</th>\n",
       "      <th>Movie Time</th>\n",
       "      <th>Movie Genre</th>\n",
       "      <th>IMDB Rating</th>\n",
       "      <th>IMDB Votes</th>\n",
       "      <th>...</th>\n",
       "      <th>Tomatometer Status</th>\n",
       "      <th>Tomatometer Rating</th>\n",
       "      <th>Tomatometer Count</th>\n",
       "      <th>Audience Status</th>\n",
       "      <th>Audience Rating</th>\n",
       "      <th>Audience Count</th>\n",
       "      <th>Tomatometer Top Critics Count</th>\n",
       "      <th>Tomatometer Fresh Critics Count</th>\n",
       "      <th>Tomatometer Rotten Critics Count</th>\n",
       "      <th>Film ID</th>\n",
       "    </tr>\n",
       "  </thead>\n",
       "  <tbody>\n",
       "    <tr>\n",
       "      <th>0</th>\n",
       "      <td>0</td>\n",
       "      <td>Wings</td>\n",
       "      <td>1927/28</td>\n",
       "      <td>Famous Players-Lasky</td>\n",
       "      <td>Winner</td>\n",
       "      <td>1927</td>\n",
       "      <td>144</td>\n",
       "      <td>Drama,Romance,War</td>\n",
       "      <td>7.5</td>\n",
       "      <td>12,221</td>\n",
       "      <td>...</td>\n",
       "      <td>Certified-Fresh</td>\n",
       "      <td>93.0</td>\n",
       "      <td>46.0</td>\n",
       "      <td>Upright</td>\n",
       "      <td>78.0</td>\n",
       "      <td>3530.0</td>\n",
       "      <td>9.0</td>\n",
       "      <td>43.0</td>\n",
       "      <td>3.0</td>\n",
       "      <td>2becf7d5-a3de-46ab-ae45-abdd6b588067</td>\n",
       "    </tr>\n",
       "    <tr>\n",
       "      <th>1</th>\n",
       "      <td>1</td>\n",
       "      <td>7th Heaven</td>\n",
       "      <td>1927/28</td>\n",
       "      <td>Fox</td>\n",
       "      <td>Nominee</td>\n",
       "      <td>1927</td>\n",
       "      <td>110</td>\n",
       "      <td>Drama,Romance</td>\n",
       "      <td>7.7</td>\n",
       "      <td>3,439</td>\n",
       "      <td>...</td>\n",
       "      <td>NaN</td>\n",
       "      <td>NaN</td>\n",
       "      <td>NaN</td>\n",
       "      <td>NaN</td>\n",
       "      <td>NaN</td>\n",
       "      <td>NaN</td>\n",
       "      <td>NaN</td>\n",
       "      <td>NaN</td>\n",
       "      <td>NaN</td>\n",
       "      <td>19ed3295-a878-4fd2-8e60-5cd7b5f93dad</td>\n",
       "    </tr>\n",
       "    <tr>\n",
       "      <th>2</th>\n",
       "      <td>2</td>\n",
       "      <td>The Racket</td>\n",
       "      <td>1927/28</td>\n",
       "      <td>The Caddo Company</td>\n",
       "      <td>Nominee</td>\n",
       "      <td>1928</td>\n",
       "      <td>84</td>\n",
       "      <td>Crime,Drama,Film-Noir</td>\n",
       "      <td>6.7</td>\n",
       "      <td>1,257</td>\n",
       "      <td>...</td>\n",
       "      <td>NaN</td>\n",
       "      <td>NaN</td>\n",
       "      <td>NaN</td>\n",
       "      <td>NaN</td>\n",
       "      <td>NaN</td>\n",
       "      <td>NaN</td>\n",
       "      <td>NaN</td>\n",
       "      <td>NaN</td>\n",
       "      <td>NaN</td>\n",
       "      <td>3111c2d8-0908-4093-8ff3-99c89f2f2f08</td>\n",
       "    </tr>\n",
       "    <tr>\n",
       "      <th>3</th>\n",
       "      <td>3</td>\n",
       "      <td>The Broadway Melody</td>\n",
       "      <td>1928/29</td>\n",
       "      <td>Metro-Goldwyn-Mayer</td>\n",
       "      <td>Winner</td>\n",
       "      <td>1929</td>\n",
       "      <td>100</td>\n",
       "      <td>Drama,Musical,Romance</td>\n",
       "      <td>5.7</td>\n",
       "      <td>6,890</td>\n",
       "      <td>...</td>\n",
       "      <td>Rotten</td>\n",
       "      <td>33.0</td>\n",
       "      <td>24.0</td>\n",
       "      <td>Spilled</td>\n",
       "      <td>21.0</td>\n",
       "      <td>1813.0</td>\n",
       "      <td>7.0</td>\n",
       "      <td>8.0</td>\n",
       "      <td>16.0</td>\n",
       "      <td>de063f3f-2d35-4e1c-8636-6eb4c16bd236</td>\n",
       "    </tr>\n",
       "    <tr>\n",
       "      <th>4</th>\n",
       "      <td>4</td>\n",
       "      <td>Alibi</td>\n",
       "      <td>1928/29</td>\n",
       "      <td>Feature Productions</td>\n",
       "      <td>Nominee</td>\n",
       "      <td>1929</td>\n",
       "      <td>91</td>\n",
       "      <td>Action,Crime,Romance</td>\n",
       "      <td>5.8</td>\n",
       "      <td>765</td>\n",
       "      <td>...</td>\n",
       "      <td>NaN</td>\n",
       "      <td>NaN</td>\n",
       "      <td>NaN</td>\n",
       "      <td>NaN</td>\n",
       "      <td>NaN</td>\n",
       "      <td>NaN</td>\n",
       "      <td>NaN</td>\n",
       "      <td>NaN</td>\n",
       "      <td>NaN</td>\n",
       "      <td>609887c2-877c-43a4-b88c-e40e31096a98</td>\n",
       "    </tr>\n",
       "  </tbody>\n",
       "</table>\n",
       "<p>5 rows × 30 columns</p>\n",
       "</div>"
      ],
      "text/plain": [
       "   Unnamed: 0                 Film Oscar Year Film Studio/Producer(s)  \\\n",
       "0           0                Wings    1927/28    Famous Players-Lasky   \n",
       "1           1           7th Heaven    1927/28                     Fox   \n",
       "2           2           The Racket    1927/28       The Caddo Company   \n",
       "3           3  The Broadway Melody    1928/29     Metro-Goldwyn-Mayer   \n",
       "4           4                Alibi    1928/29     Feature Productions   \n",
       "\n",
       "     Award  Year of Release  Movie Time            Movie Genre  IMDB Rating  \\\n",
       "0   Winner             1927         144      Drama,Romance,War          7.5   \n",
       "1  Nominee             1927         110          Drama,Romance          7.7   \n",
       "2  Nominee             1928          84  Crime,Drama,Film-Noir          6.7   \n",
       "3   Winner             1929         100  Drama,Musical,Romance          5.7   \n",
       "4  Nominee             1929          91   Action,Crime,Romance          5.8   \n",
       "\n",
       "  IMDB Votes  ... Tomatometer Status Tomatometer Rating Tomatometer Count  \\\n",
       "0     12,221  ...    Certified-Fresh               93.0              46.0   \n",
       "1      3,439  ...                NaN                NaN               NaN   \n",
       "2      1,257  ...                NaN                NaN               NaN   \n",
       "3      6,890  ...             Rotten               33.0              24.0   \n",
       "4        765  ...                NaN                NaN               NaN   \n",
       "\n",
       "  Audience Status Audience Rating Audience Count  \\\n",
       "0         Upright            78.0         3530.0   \n",
       "1             NaN             NaN            NaN   \n",
       "2             NaN             NaN            NaN   \n",
       "3         Spilled            21.0         1813.0   \n",
       "4             NaN             NaN            NaN   \n",
       "\n",
       "  Tomatometer Top Critics Count Tomatometer Fresh Critics Count  \\\n",
       "0                           9.0                            43.0   \n",
       "1                           NaN                             NaN   \n",
       "2                           NaN                             NaN   \n",
       "3                           7.0                             8.0   \n",
       "4                           NaN                             NaN   \n",
       "\n",
       "  Tomatometer Rotten Critics Count                               Film ID  \n",
       "0                              3.0  2becf7d5-a3de-46ab-ae45-abdd6b588067  \n",
       "1                              NaN  19ed3295-a878-4fd2-8e60-5cd7b5f93dad  \n",
       "2                              NaN  3111c2d8-0908-4093-8ff3-99c89f2f2f08  \n",
       "3                             16.0  de063f3f-2d35-4e1c-8636-6eb4c16bd236  \n",
       "4                              NaN  609887c2-877c-43a4-b88c-e40e31096a98  \n",
       "\n",
       "[5 rows x 30 columns]"
      ]
     },
     "execution_count": 111,
     "metadata": {},
     "output_type": "execute_result"
    }
   ],
   "source": [
    "data.head(5)"
   ]
  },
  {
   "cell_type": "markdown",
   "id": "a7464609",
   "metadata": {},
   "source": [
    "Проверяем данные на наличие пустот."
   ]
  },
  {
   "cell_type": "code",
   "execution_count": 112,
   "id": "5f16ac7e-8974-44ab-b4c0-eb7e50f9109c",
   "metadata": {},
   "outputs": [
    {
     "data": {
      "text/plain": [
       "Unnamed: 0                            0\n",
       "Film                                  0\n",
       "Oscar Year                            0\n",
       "Film Studio/Producer(s)               0\n",
       "Award                                 0\n",
       "Year of Release                       0\n",
       "Movie Time                            0\n",
       "Movie Genre                           0\n",
       "IMDB Rating                           0\n",
       "IMDB Votes                            0\n",
       "Movie Info                          133\n",
       "Genres                              132\n",
       "Critic Consensus                    232\n",
       "Content Rating                      132\n",
       "Directors                           134\n",
       "Authors                             134\n",
       "Actors                              132\n",
       "Original Release Date               132\n",
       "Streaming Release Date              133\n",
       "Production Company                  132\n",
       "Tomatometer Status                  132\n",
       "Tomatometer Rating                  132\n",
       "Tomatometer Count                   132\n",
       "Audience Status                     135\n",
       "Audience Rating                     132\n",
       "Audience Count                      132\n",
       "Tomatometer Top Critics Count       132\n",
       "Tomatometer Fresh Critics Count     132\n",
       "Tomatometer Rotten Critics Count    132\n",
       "Film ID                               0\n",
       "dtype: int64"
      ]
     },
     "execution_count": 112,
     "metadata": {},
     "output_type": "execute_result"
    }
   ],
   "source": [
    "data.isna().sum()"
   ]
  },
  {
   "cell_type": "markdown",
   "id": "6ab13646",
   "metadata": {},
   "source": [
    "Смотрим основные значения каждого столбца"
   ]
  },
  {
   "cell_type": "code",
   "execution_count": 113,
   "id": "e44154f1-50e8-49d6-9dec-2eab3c1941c7",
   "metadata": {},
   "outputs": [
    {
     "data": {
      "text/html": [
       "<div>\n",
       "<style scoped>\n",
       "    .dataframe tbody tr th:only-of-type {\n",
       "        vertical-align: middle;\n",
       "    }\n",
       "\n",
       "    .dataframe tbody tr th {\n",
       "        vertical-align: top;\n",
       "    }\n",
       "\n",
       "    .dataframe thead th {\n",
       "        text-align: right;\n",
       "    }\n",
       "</style>\n",
       "<table border=\"1\" class=\"dataframe\">\n",
       "  <thead>\n",
       "    <tr style=\"text-align: right;\">\n",
       "      <th></th>\n",
       "      <th>Unnamed: 0</th>\n",
       "      <th>Year of Release</th>\n",
       "      <th>Movie Time</th>\n",
       "      <th>IMDB Rating</th>\n",
       "      <th>Tomatometer Rating</th>\n",
       "      <th>Tomatometer Count</th>\n",
       "      <th>Audience Rating</th>\n",
       "      <th>Audience Count</th>\n",
       "      <th>Tomatometer Top Critics Count</th>\n",
       "      <th>Tomatometer Fresh Critics Count</th>\n",
       "      <th>Tomatometer Rotten Critics Count</th>\n",
       "    </tr>\n",
       "  </thead>\n",
       "  <tbody>\n",
       "    <tr>\n",
       "      <th>count</th>\n",
       "      <td>571.000000</td>\n",
       "      <td>571.000000</td>\n",
       "      <td>571.000000</td>\n",
       "      <td>571.000000</td>\n",
       "      <td>439.000000</td>\n",
       "      <td>439.000000</td>\n",
       "      <td>439.000000</td>\n",
       "      <td>4.390000e+02</td>\n",
       "      <td>439.000000</td>\n",
       "      <td>439.000000</td>\n",
       "      <td>439.000000</td>\n",
       "    </tr>\n",
       "    <tr>\n",
       "      <th>mean</th>\n",
       "      <td>285.000000</td>\n",
       "      <td>1973.357268</td>\n",
       "      <td>124.894921</td>\n",
       "      <td>7.570403</td>\n",
       "      <td>87.503417</td>\n",
       "      <td>110.697039</td>\n",
       "      <td>82.428246</td>\n",
       "      <td>5.154145e+05</td>\n",
       "      <td>21.861048</td>\n",
       "      <td>98.471526</td>\n",
       "      <td>12.275626</td>\n",
       "    </tr>\n",
       "    <tr>\n",
       "      <th>std</th>\n",
       "      <td>164.977776</td>\n",
       "      <td>29.315738</td>\n",
       "      <td>26.322817</td>\n",
       "      <td>0.559652</td>\n",
       "      <td>11.690622</td>\n",
       "      <td>119.541406</td>\n",
       "      <td>10.927897</td>\n",
       "      <td>3.623107e+06</td>\n",
       "      <td>21.615492</td>\n",
       "      <td>107.798554</td>\n",
       "      <td>19.310232</td>\n",
       "    </tr>\n",
       "    <tr>\n",
       "      <th>min</th>\n",
       "      <td>0.000000</td>\n",
       "      <td>1927.000000</td>\n",
       "      <td>66.000000</td>\n",
       "      <td>5.600000</td>\n",
       "      <td>29.000000</td>\n",
       "      <td>5.000000</td>\n",
       "      <td>21.000000</td>\n",
       "      <td>6.000000e+00</td>\n",
       "      <td>0.000000</td>\n",
       "      <td>3.000000</td>\n",
       "      <td>0.000000</td>\n",
       "    </tr>\n",
       "    <tr>\n",
       "      <th>25%</th>\n",
       "      <td>142.500000</td>\n",
       "      <td>1944.000000</td>\n",
       "      <td>107.000000</td>\n",
       "      <td>7.300000</td>\n",
       "      <td>84.000000</td>\n",
       "      <td>25.000000</td>\n",
       "      <td>78.000000</td>\n",
       "      <td>6.637500e+03</td>\n",
       "      <td>5.000000</td>\n",
       "      <td>21.500000</td>\n",
       "      <td>2.000000</td>\n",
       "    </tr>\n",
       "    <tr>\n",
       "      <th>50%</th>\n",
       "      <td>285.000000</td>\n",
       "      <td>1972.000000</td>\n",
       "      <td>121.000000</td>\n",
       "      <td>7.600000</td>\n",
       "      <td>91.000000</td>\n",
       "      <td>54.000000</td>\n",
       "      <td>85.000000</td>\n",
       "      <td>3.716600e+04</td>\n",
       "      <td>11.000000</td>\n",
       "      <td>49.000000</td>\n",
       "      <td>5.000000</td>\n",
       "    </tr>\n",
       "    <tr>\n",
       "      <th>75%</th>\n",
       "      <td>427.500000</td>\n",
       "      <td>2001.000000</td>\n",
       "      <td>136.500000</td>\n",
       "      <td>7.900000</td>\n",
       "      <td>95.000000</td>\n",
       "      <td>199.000000</td>\n",
       "      <td>90.000000</td>\n",
       "      <td>1.255365e+05</td>\n",
       "      <td>45.000000</td>\n",
       "      <td>163.500000</td>\n",
       "      <td>15.000000</td>\n",
       "    </tr>\n",
       "    <tr>\n",
       "      <th>max</th>\n",
       "      <td>570.000000</td>\n",
       "      <td>2021.000000</td>\n",
       "      <td>238.000000</td>\n",
       "      <td>9.300000</td>\n",
       "      <td>100.000000</td>\n",
       "      <td>574.000000</td>\n",
       "      <td>98.000000</td>\n",
       "      <td>3.579764e+07</td>\n",
       "      <td>69.000000</td>\n",
       "      <td>495.000000</td>\n",
       "      <td>182.000000</td>\n",
       "    </tr>\n",
       "  </tbody>\n",
       "</table>\n",
       "</div>"
      ],
      "text/plain": [
       "       Unnamed: 0  Year of Release  Movie Time  IMDB Rating  \\\n",
       "count  571.000000       571.000000  571.000000   571.000000   \n",
       "mean   285.000000      1973.357268  124.894921     7.570403   \n",
       "std    164.977776        29.315738   26.322817     0.559652   \n",
       "min      0.000000      1927.000000   66.000000     5.600000   \n",
       "25%    142.500000      1944.000000  107.000000     7.300000   \n",
       "50%    285.000000      1972.000000  121.000000     7.600000   \n",
       "75%    427.500000      2001.000000  136.500000     7.900000   \n",
       "max    570.000000      2021.000000  238.000000     9.300000   \n",
       "\n",
       "       Tomatometer Rating  Tomatometer Count  Audience Rating  Audience Count  \\\n",
       "count          439.000000         439.000000       439.000000    4.390000e+02   \n",
       "mean            87.503417         110.697039        82.428246    5.154145e+05   \n",
       "std             11.690622         119.541406        10.927897    3.623107e+06   \n",
       "min             29.000000           5.000000        21.000000    6.000000e+00   \n",
       "25%             84.000000          25.000000        78.000000    6.637500e+03   \n",
       "50%             91.000000          54.000000        85.000000    3.716600e+04   \n",
       "75%             95.000000         199.000000        90.000000    1.255365e+05   \n",
       "max            100.000000         574.000000        98.000000    3.579764e+07   \n",
       "\n",
       "       Tomatometer Top Critics Count  Tomatometer Fresh Critics Count  \\\n",
       "count                     439.000000                       439.000000   \n",
       "mean                       21.861048                        98.471526   \n",
       "std                        21.615492                       107.798554   \n",
       "min                         0.000000                         3.000000   \n",
       "25%                         5.000000                        21.500000   \n",
       "50%                        11.000000                        49.000000   \n",
       "75%                        45.000000                       163.500000   \n",
       "max                        69.000000                       495.000000   \n",
       "\n",
       "       Tomatometer Rotten Critics Count  \n",
       "count                        439.000000  \n",
       "mean                          12.275626  \n",
       "std                           19.310232  \n",
       "min                            0.000000  \n",
       "25%                            2.000000  \n",
       "50%                            5.000000  \n",
       "75%                           15.000000  \n",
       "max                          182.000000  "
      ]
     },
     "execution_count": 113,
     "metadata": {},
     "output_type": "execute_result"
    }
   ],
   "source": [
    "data.describe()"
   ]
  },
  {
   "cell_type": "markdown",
   "id": "3336fd5f",
   "metadata": {},
   "source": [
    "Заполняем пустые ячейки"
   ]
  },
  {
   "cell_type": "code",
   "execution_count": 114,
   "id": "1e15277a-f75c-4a4e-a36c-85542c68a123",
   "metadata": {},
   "outputs": [
    {
     "data": {
      "text/plain": [
       "0       3530.0\n",
       "1      66721.0\n",
       "2      66721.0\n",
       "3       1813.0\n",
       "4      66721.0\n",
       "        ...   \n",
       "566    66721.0\n",
       "567    66721.0\n",
       "568    66721.0\n",
       "569    66721.0\n",
       "570    66721.0\n",
       "Name: Audience Count, Length: 571, dtype: float64"
      ]
     },
     "execution_count": 114,
     "metadata": {},
     "output_type": "execute_result"
    }
   ],
   "source": [
    "data ['Audience Rating'] = data ['Audience Rating'].fillna(np.random.randint(25,98))\n",
    "data ['Audience Rating']\n",
    "data ['Audience Count'] = data ['Audience Count'].fillna(np.random.randint(1000,80000))\n",
    "data ['Audience Count']"
   ]
  },
  {
   "cell_type": "code",
   "execution_count": 115,
   "id": "113b931d-c19c-4bd7-ba0d-e1b963f2edc0",
   "metadata": {},
   "outputs": [
    {
     "data": {
      "text/plain": [
       "Unnamed: 0                            0\n",
       "Film                                  0\n",
       "Oscar Year                            0\n",
       "Film Studio/Producer(s)               0\n",
       "Award                                 0\n",
       "Year of Release                       0\n",
       "Movie Time                            0\n",
       "Movie Genre                           0\n",
       "IMDB Rating                           0\n",
       "IMDB Votes                            0\n",
       "Movie Info                            0\n",
       "Genres                                0\n",
       "Critic Consensus                      0\n",
       "Content Rating                        0\n",
       "Directors                             0\n",
       "Authors                               0\n",
       "Actors                                0\n",
       "Original Release Date                 0\n",
       "Streaming Release Date                0\n",
       "Production Company                    0\n",
       "Tomatometer Status                    0\n",
       "Tomatometer Rating                  132\n",
       "Tomatometer Count                   132\n",
       "Audience Status                     135\n",
       "Audience Rating                       0\n",
       "Audience Count                        0\n",
       "Tomatometer Top Critics Count       132\n",
       "Tomatometer Fresh Critics Count     132\n",
       "Tomatometer Rotten Critics Count    132\n",
       "Film ID                               0\n",
       "dtype: int64"
      ]
     },
     "execution_count": 115,
     "metadata": {},
     "output_type": "execute_result"
    }
   ],
   "source": [
    "list_ = ['Movie Info', 'Genres', 'Critic Consensus', 'Directors', 'Authors', 'Actors', 'Production Company', 'Tomatometer Status', 'Content Rating','Original Release Date','Streaming Release Date']\n",
    "for i in list_:   \n",
    "    data [i] = data [i].fillna('unknown')\n",
    "data.isna().sum()"
   ]
  },
  {
   "cell_type": "code",
   "execution_count": 116,
   "id": "169560f2-353b-4fa3-b594-c5a4a93c8bb3",
   "metadata": {},
   "outputs": [
    {
     "data": {
      "text/plain": [
       "Unnamed: 0                            0\n",
       "Film                                  0\n",
       "Oscar Year                            0\n",
       "Film Studio/Producer(s)               0\n",
       "Award                                 0\n",
       "Year of Release                       0\n",
       "Movie Time                            0\n",
       "Movie Genre                           0\n",
       "IMDB Rating                           0\n",
       "IMDB Votes                            0\n",
       "Movie Info                            0\n",
       "Genres                                0\n",
       "Critic Consensus                      0\n",
       "Content Rating                        0\n",
       "Directors                             0\n",
       "Authors                               0\n",
       "Actors                                0\n",
       "Original Release Date                 0\n",
       "Streaming Release Date                0\n",
       "Production Company                    0\n",
       "Tomatometer Status                    0\n",
       "Tomatometer Rating                  132\n",
       "Tomatometer Count                   132\n",
       "Audience Status                       0\n",
       "Audience Rating                       0\n",
       "Audience Count                        0\n",
       "Tomatometer Top Critics Count       132\n",
       "Tomatometer Fresh Critics Count     132\n",
       "Tomatometer Rotten Critics Count    132\n",
       "Film ID                               0\n",
       "dtype: int64"
      ]
     },
     "execution_count": 116,
     "metadata": {},
     "output_type": "execute_result"
    }
   ],
   "source": [
    "data.loc[(data['Audience Rating']>=60), 'Audience Status']='Upright'\n",
    "data.loc[(data['Audience Rating']<60), 'Audience Status']='Spilled'\n",
    "data.isna().sum()"
   ]
  },
  {
   "cell_type": "code",
   "execution_count": 117,
   "id": "d7fc32f7-8eda-4c2c-b857-0b88ff42b1b1",
   "metadata": {},
   "outputs": [
    {
     "data": {
      "text/plain": [
       "Unnamed: 0                            0\n",
       "Film                                  0\n",
       "Oscar Year                            0\n",
       "Film Studio/Producer(s)               0\n",
       "Award                                 0\n",
       "Year of Release                       0\n",
       "Movie Time                            0\n",
       "Movie Genre                           0\n",
       "IMDB Rating                           0\n",
       "IMDB Votes                            0\n",
       "Movie Info                            0\n",
       "Genres                                0\n",
       "Critic Consensus                      0\n",
       "Content Rating                        0\n",
       "Directors                             0\n",
       "Authors                               0\n",
       "Actors                                0\n",
       "Original Release Date                 0\n",
       "Streaming Release Date                0\n",
       "Production Company                    0\n",
       "Tomatometer Status                    0\n",
       "Tomatometer Rating                  132\n",
       "Tomatometer Count                   132\n",
       "Audience Status                       0\n",
       "Audience Rating                       0\n",
       "Audience Count                        0\n",
       "Tomatometer Top Critics Count         0\n",
       "Tomatometer Fresh Critics Count       0\n",
       "Tomatometer Rotten Critics Count      0\n",
       "Film ID                               0\n",
       "dtype: int64"
      ]
     },
     "execution_count": 117,
     "metadata": {},
     "output_type": "execute_result"
    }
   ],
   "source": [
    "list1 = ['Tomatometer Top Critics Count', 'Tomatometer Fresh Critics Count', 'Tomatometer Rotten Critics Count']\n",
    "for i in list1:   \n",
    "    data [i] = data [i].fillna(0)\n",
    "data.isna().sum()"
   ]
  },
  {
   "cell_type": "code",
   "execution_count": 118,
   "id": "e919e331-32d2-4a94-b500-5a56e930dbce",
   "metadata": {},
   "outputs": [
    {
     "data": {
      "text/plain": [
       "Unnamed: 0                          0\n",
       "Film                                0\n",
       "Oscar Year                          0\n",
       "Film Studio/Producer(s)             0\n",
       "Award                               0\n",
       "Year of Release                     0\n",
       "Movie Time                          0\n",
       "Movie Genre                         0\n",
       "IMDB Rating                         0\n",
       "IMDB Votes                          0\n",
       "Movie Info                          0\n",
       "Genres                              0\n",
       "Critic Consensus                    0\n",
       "Content Rating                      0\n",
       "Directors                           0\n",
       "Authors                             0\n",
       "Actors                              0\n",
       "Original Release Date               0\n",
       "Streaming Release Date              0\n",
       "Production Company                  0\n",
       "Tomatometer Status                  0\n",
       "Tomatometer Rating                  0\n",
       "Tomatometer Count                   0\n",
       "Audience Status                     0\n",
       "Audience Rating                     0\n",
       "Audience Count                      0\n",
       "Tomatometer Top Critics Count       0\n",
       "Tomatometer Fresh Critics Count     0\n",
       "Tomatometer Rotten Critics Count    0\n",
       "Film ID                             0\n",
       "dtype: int64"
      ]
     },
     "execution_count": 118,
     "metadata": {},
     "output_type": "execute_result"
    }
   ],
   "source": [
    "means_tomr = data['Tomatometer Rating'].mean().round()\n",
    "means_tomc = data['Tomatometer Count'].mean().round()\n",
    "data ['Tomatometer Rating'] = data ['Tomatometer Rating'].fillna(means_tomr)\n",
    "data ['Tomatometer Rating']\n",
    "data ['Tomatometer Count'] = data ['Tomatometer Count'].fillna(means_tomc)\n",
    "data ['Tomatometer Count']\n",
    "data.isna().sum()"
   ]
  },
  {
   "cell_type": "markdown",
   "id": "cc1b5aa8",
   "metadata": {},
   "source": [
    "Теперь данные полные, поэтому проверяем типы стобцов и переводим их в нужный тип при необходимости."
   ]
  },
  {
   "cell_type": "code",
   "execution_count": 119,
   "id": "c8301611-d5d1-4759-90c5-93cecedfe6eb",
   "metadata": {},
   "outputs": [
    {
     "name": "stdout",
     "output_type": "stream",
     "text": [
      "<class 'pandas.core.frame.DataFrame'>\n",
      "RangeIndex: 571 entries, 0 to 570\n",
      "Data columns (total 30 columns):\n",
      " #   Column                            Non-Null Count  Dtype  \n",
      "---  ------                            --------------  -----  \n",
      " 0   Unnamed: 0                        571 non-null    int64  \n",
      " 1   Film                              571 non-null    object \n",
      " 2   Oscar Year                        571 non-null    object \n",
      " 3   Film Studio/Producer(s)           571 non-null    object \n",
      " 4   Award                             571 non-null    object \n",
      " 5   Year of Release                   571 non-null    int64  \n",
      " 6   Movie Time                        571 non-null    int64  \n",
      " 7   Movie Genre                       571 non-null    object \n",
      " 8   IMDB Rating                       571 non-null    float64\n",
      " 9   IMDB Votes                        571 non-null    object \n",
      " 10  Movie Info                        571 non-null    object \n",
      " 11  Genres                            571 non-null    object \n",
      " 12  Critic Consensus                  571 non-null    object \n",
      " 13  Content Rating                    571 non-null    object \n",
      " 14  Directors                         571 non-null    object \n",
      " 15  Authors                           571 non-null    object \n",
      " 16  Actors                            571 non-null    object \n",
      " 17  Original Release Date             571 non-null    object \n",
      " 18  Streaming Release Date            571 non-null    object \n",
      " 19  Production Company                571 non-null    object \n",
      " 20  Tomatometer Status                571 non-null    object \n",
      " 21  Tomatometer Rating                571 non-null    float64\n",
      " 22  Tomatometer Count                 571 non-null    float64\n",
      " 23  Audience Status                   571 non-null    object \n",
      " 24  Audience Rating                   571 non-null    float64\n",
      " 25  Audience Count                    571 non-null    float64\n",
      " 26  Tomatometer Top Critics Count     571 non-null    float64\n",
      " 27  Tomatometer Fresh Critics Count   571 non-null    float64\n",
      " 28  Tomatometer Rotten Critics Count  571 non-null    float64\n",
      " 29  Film ID                           571 non-null    object \n",
      "dtypes: float64(8), int64(3), object(19)\n",
      "memory usage: 134.0+ KB\n"
     ]
    }
   ],
   "source": [
    "data.info()"
   ]
  },
  {
   "cell_type": "markdown",
   "id": "63f4f9f4",
   "metadata": {},
   "source": [
    "Для даты базовое значение 1 января"
   ]
  },
  {
   "cell_type": "code",
   "execution_count": 120,
   "id": "17afdfc4-7234-4e95-97ef-38f109190265",
   "metadata": {},
   "outputs": [
    {
     "data": {
      "text/plain": [
       "0     1927-01-01\n",
       "1     1927-01-01\n",
       "2     1927-01-01\n",
       "3     1928-01-01\n",
       "4     1928-01-01\n",
       "         ...    \n",
       "566   2020-01-01\n",
       "567   2020-01-01\n",
       "568   2020-01-01\n",
       "569   2020-01-01\n",
       "570   2020-01-01\n",
       "Name: Oscar Year, Length: 571, dtype: datetime64[ns]"
      ]
     },
     "execution_count": 120,
     "metadata": {},
     "output_type": "execute_result"
    }
   ],
   "source": [
    "data['Oscar Year']=data['Oscar Year'].str[:4]\n",
    "data ['Oscar Year'] = pd.to_datetime(data['Oscar Year'],format='mixed')\n",
    "data['Oscar Year']"
   ]
  },
  {
   "cell_type": "code",
   "execution_count": 121,
   "id": "ee925f77-2bc2-410a-9702-ef47c9e9cc04",
   "metadata": {},
   "outputs": [
    {
     "data": {
      "text/plain": [
       "0     1927-01-01\n",
       "1     1927-01-01\n",
       "2     1928-01-01\n",
       "3     1929-01-01\n",
       "4     1929-01-01\n",
       "         ...    \n",
       "566   2020-01-01\n",
       "567   2020-01-01\n",
       "568   2020-01-01\n",
       "569   2019-01-01\n",
       "570   2020-01-01\n",
       "Name: Year of Release, Length: 571, dtype: datetime64[ns]"
      ]
     },
     "execution_count": 121,
     "metadata": {},
     "output_type": "execute_result"
    }
   ],
   "source": [
    "data['Year of Release'] = pd.to_datetime(data['Year of Release'],format = '%Y')\n",
    "data['Year of Release']"
   ]
  },
  {
   "cell_type": "code",
   "execution_count": 122,
   "id": "c7383ec6-1e01-473c-b74b-d3f7711407ee",
   "metadata": {},
   "outputs": [
    {
     "name": "stdout",
     "output_type": "stream",
     "text": [
      "<class 'pandas.core.frame.DataFrame'>\n",
      "RangeIndex: 571 entries, 0 to 570\n",
      "Data columns (total 30 columns):\n",
      " #   Column                            Non-Null Count  Dtype         \n",
      "---  ------                            --------------  -----         \n",
      " 0   Unnamed: 0                        571 non-null    int64         \n",
      " 1   Film                              571 non-null    object        \n",
      " 2   Oscar Year                        571 non-null    datetime64[ns]\n",
      " 3   Film Studio/Producer(s)           571 non-null    object        \n",
      " 4   Award                             571 non-null    object        \n",
      " 5   Year of Release                   571 non-null    datetime64[ns]\n",
      " 6   Movie Time                        571 non-null    int64         \n",
      " 7   Movie Genre                       571 non-null    object        \n",
      " 8   IMDB Rating                       571 non-null    float64       \n",
      " 9   IMDB Votes                        571 non-null    object        \n",
      " 10  Movie Info                        571 non-null    object        \n",
      " 11  Genres                            571 non-null    object        \n",
      " 12  Critic Consensus                  571 non-null    object        \n",
      " 13  Content Rating                    571 non-null    object        \n",
      " 14  Directors                         571 non-null    object        \n",
      " 15  Authors                           571 non-null    object        \n",
      " 16  Actors                            571 non-null    object        \n",
      " 17  Original Release Date             571 non-null    object        \n",
      " 18  Streaming Release Date            571 non-null    object        \n",
      " 19  Production Company                571 non-null    object        \n",
      " 20  Tomatometer Status                571 non-null    object        \n",
      " 21  Tomatometer Rating                571 non-null    int32         \n",
      " 22  Tomatometer Count                 571 non-null    int32         \n",
      " 23  Audience Status                   571 non-null    object        \n",
      " 24  Audience Rating                   571 non-null    int32         \n",
      " 25  Audience Count                    571 non-null    int32         \n",
      " 26  Tomatometer Top Critics Count     571 non-null    int32         \n",
      " 27  Tomatometer Fresh Critics Count   571 non-null    int32         \n",
      " 28  Tomatometer Rotten Critics Count  571 non-null    int32         \n",
      " 29  Film ID                           571 non-null    object        \n",
      "dtypes: datetime64[ns](2), float64(1), int32(7), int64(2), object(18)\n",
      "memory usage: 118.3+ KB\n"
     ]
    }
   ],
   "source": [
    "data['Tomatometer Rating'] = data['Tomatometer Rating'].astype(int)\n",
    "data['Tomatometer Count'] = data['Tomatometer Count'].astype(int)\n",
    "data['Audience Rating'] = data['Audience Rating'].astype(int)\n",
    "data['Audience Count'] = data['Audience Count'].astype(int)\n",
    "data['Tomatometer Top Critics Count'] = data['Tomatometer Top Critics Count'].astype(int)\n",
    "data['Tomatometer Fresh Critics Count'] = data['Tomatometer Fresh Critics Count'].astype(int)\n",
    "data['Tomatometer Rotten Critics Count'] = data['Tomatometer Rotten Critics Count'].astype(int)\n",
    "data.info()"
   ]
  },
  {
   "cell_type": "markdown",
   "id": "45199fe8",
   "metadata": {},
   "source": [
    "Проверяем на наличие дубликатов"
   ]
  },
  {
   "cell_type": "code",
   "execution_count": 123,
   "id": "492092ac-97b8-4dac-830c-60bb654e47b9",
   "metadata": {},
   "outputs": [
    {
     "data": {
      "text/plain": [
       "0"
      ]
     },
     "execution_count": 123,
     "metadata": {},
     "output_type": "execute_result"
    }
   ],
   "source": [
    "data.duplicated().sum()"
   ]
  },
  {
   "cell_type": "code",
   "execution_count": 124,
   "id": "6833be0d-be83-4e41-95a7-7fbb2f642bf1",
   "metadata": {},
   "outputs": [
    {
     "name": "stdout",
     "output_type": "stream",
     "text": [
      "<class 'pandas.core.frame.DataFrame'>\n",
      "RangeIndex: 571 entries, 0 to 570\n",
      "Data columns (total 30 columns):\n",
      " #   Column                            Non-Null Count  Dtype         \n",
      "---  ------                            --------------  -----         \n",
      " 0   Unnamed: 0                        571 non-null    int64         \n",
      " 1   Film                              571 non-null    object        \n",
      " 2   Oscar Year                        571 non-null    datetime64[ns]\n",
      " 3   Film Studio/Producer(s)           571 non-null    object        \n",
      " 4   Award                             571 non-null    object        \n",
      " 5   Year of Release                   571 non-null    datetime64[ns]\n",
      " 6   Movie Time                        571 non-null    int64         \n",
      " 7   Movie Genre                       571 non-null    object        \n",
      " 8   IMDB Rating                       571 non-null    float64       \n",
      " 9   IMDB Votes                        571 non-null    object        \n",
      " 10  Movie Info                        571 non-null    object        \n",
      " 11  Genres                            571 non-null    object        \n",
      " 12  Critic Consensus                  571 non-null    object        \n",
      " 13  Content Rating                    571 non-null    object        \n",
      " 14  Directors                         571 non-null    object        \n",
      " 15  Authors                           571 non-null    object        \n",
      " 16  Actors                            571 non-null    object        \n",
      " 17  Original Release Date             571 non-null    object        \n",
      " 18  Streaming Release Date            571 non-null    object        \n",
      " 19  Production Company                571 non-null    object        \n",
      " 20  Tomatometer Status                571 non-null    object        \n",
      " 21  Tomatometer Rating                571 non-null    int32         \n",
      " 22  Tomatometer Count                 571 non-null    int32         \n",
      " 23  Audience Status                   571 non-null    object        \n",
      " 24  Audience Rating                   571 non-null    int32         \n",
      " 25  Audience Count                    571 non-null    int32         \n",
      " 26  Tomatometer Top Critics Count     571 non-null    int32         \n",
      " 27  Tomatometer Fresh Critics Count   571 non-null    int32         \n",
      " 28  Tomatometer Rotten Critics Count  571 non-null    int32         \n",
      " 29  Film ID                           571 non-null    object        \n",
      "dtypes: datetime64[ns](2), float64(1), int32(7), int64(2), object(18)\n",
      "memory usage: 118.3+ KB\n"
     ]
    }
   ],
   "source": [
    "data.info()"
   ]
  },
  {
   "cell_type": "markdown",
   "id": "48113eb5",
   "metadata": {},
   "source": [
    "Выводим в виде гистограмм несколько столбцов"
   ]
  },
  {
   "cell_type": "code",
   "execution_count": 125,
   "id": "af76297a-ee90-48eb-a25f-fedeeb398a5a",
   "metadata": {},
   "outputs": [
    {
     "data": {
      "image/png": "[encoded data removed]",
      "text/plain": [
       "<Figure size 640x480 with 1 Axes>"
      ]
     },
     "metadata": {},
     "output_type": "display_data"
    },
    {
     "data": {
      "image/png": "[encoded data removed]",
      "text/plain": [
       "<Figure size 640x480 with 1 Axes>"
      ]
     },
     "metadata": {},
     "output_type": "display_data"
    },
    {
     "data": {
      "image/png": "[encoded data removed]",
      "text/plain": [
       "<Figure size 640x480 with 1 Axes>"
      ]
     },
     "metadata": {},
     "output_type": "display_data"
    },
    {
     "data": {
      "image/png": "[encoded data removed]",
      "text/plain": [
       "<Figure size 640x480 with 1 Axes>"
      ]
     },
     "metadata": {},
     "output_type": "display_data"
    }
   ],
   "source": [
    "data.describe()[['Movie Time', 'IMDB Rating', 'Tomatometer Rating', 'Audience Rating']]\n",
    "columns = ['Movie Time', 'IMDB Rating', 'Tomatometer Rating', 'Audience Rating']\n",
    "\n",
    "for column in columns:\n",
    "    data.hist(column)"
   ]
  },
  {
   "cell_type": "markdown",
   "id": "fbf478b1",
   "metadata": {},
   "source": [
    "Обрабатываем выбросы"
   ]
  },
  {
   "cell_type": "code",
   "execution_count": 126,
   "id": "42d8b420-b626-4704-9b4f-847282873d29",
   "metadata": {},
   "outputs": [
    {
     "data": {
      "text/html": [
       "<div>\n",
       "<style scoped>\n",
       "    .dataframe tbody tr th:only-of-type {\n",
       "        vertical-align: middle;\n",
       "    }\n",
       "\n",
       "    .dataframe tbody tr th {\n",
       "        vertical-align: top;\n",
       "    }\n",
       "\n",
       "    .dataframe thead th {\n",
       "        text-align: right;\n",
       "    }\n",
       "</style>\n",
       "<table border=\"1\" class=\"dataframe\">\n",
       "  <thead>\n",
       "    <tr style=\"text-align: right;\">\n",
       "      <th></th>\n",
       "      <th>Movie Time</th>\n",
       "      <th>IMDB Rating</th>\n",
       "      <th>Tomatometer Rating</th>\n",
       "      <th>Audience Rating</th>\n",
       "    </tr>\n",
       "  </thead>\n",
       "  <tbody>\n",
       "    <tr>\n",
       "      <th>0</th>\n",
       "      <td>144</td>\n",
       "      <td>7.5</td>\n",
       "      <td>93</td>\n",
       "      <td>78</td>\n",
       "    </tr>\n",
       "    <tr>\n",
       "      <th>1</th>\n",
       "      <td>110</td>\n",
       "      <td>7.7</td>\n",
       "      <td>88</td>\n",
       "      <td>52</td>\n",
       "    </tr>\n",
       "    <tr>\n",
       "      <th>2</th>\n",
       "      <td>84</td>\n",
       "      <td>6.7</td>\n",
       "      <td>88</td>\n",
       "      <td>52</td>\n",
       "    </tr>\n",
       "    <tr>\n",
       "      <th>3</th>\n",
       "      <td>100</td>\n",
       "      <td>5.7</td>\n",
       "      <td>33</td>\n",
       "      <td>21</td>\n",
       "    </tr>\n",
       "    <tr>\n",
       "      <th>4</th>\n",
       "      <td>91</td>\n",
       "      <td>5.8</td>\n",
       "      <td>88</td>\n",
       "      <td>52</td>\n",
       "    </tr>\n",
       "    <tr>\n",
       "      <th>...</th>\n",
       "      <td>...</td>\n",
       "      <td>...</td>\n",
       "      <td>...</td>\n",
       "      <td>...</td>\n",
       "    </tr>\n",
       "    <tr>\n",
       "      <th>566</th>\n",
       "      <td>131</td>\n",
       "      <td>6.9</td>\n",
       "      <td>88</td>\n",
       "      <td>52</td>\n",
       "    </tr>\n",
       "    <tr>\n",
       "      <th>567</th>\n",
       "      <td>115</td>\n",
       "      <td>7.5</td>\n",
       "      <td>88</td>\n",
       "      <td>52</td>\n",
       "    </tr>\n",
       "    <tr>\n",
       "      <th>568</th>\n",
       "      <td>113</td>\n",
       "      <td>7.5</td>\n",
       "      <td>88</td>\n",
       "      <td>52</td>\n",
       "    </tr>\n",
       "    <tr>\n",
       "      <th>569</th>\n",
       "      <td>120</td>\n",
       "      <td>7.8</td>\n",
       "      <td>88</td>\n",
       "      <td>52</td>\n",
       "    </tr>\n",
       "    <tr>\n",
       "      <th>570</th>\n",
       "      <td>129</td>\n",
       "      <td>7.8</td>\n",
       "      <td>88</td>\n",
       "      <td>52</td>\n",
       "    </tr>\n",
       "  </tbody>\n",
       "</table>\n",
       "<p>571 rows × 4 columns</p>\n",
       "</div>"
      ],
      "text/plain": [
       "     Movie Time  IMDB Rating  Tomatometer Rating  Audience Rating\n",
       "0           144          7.5                  93               78\n",
       "1           110          7.7                  88               52\n",
       "2            84          6.7                  88               52\n",
       "3           100          5.7                  33               21\n",
       "4            91          5.8                  88               52\n",
       "..          ...          ...                 ...              ...\n",
       "566         131          6.9                  88               52\n",
       "567         115          7.5                  88               52\n",
       "568         113          7.5                  88               52\n",
       "569         120          7.8                  88               52\n",
       "570         129          7.8                  88               52\n",
       "\n",
       "[571 rows x 4 columns]"
      ]
     },
     "execution_count": 126,
     "metadata": {},
     "output_type": "execute_result"
    }
   ],
   "source": [
    "outlier = data[['Movie Time', 'IMDB Rating', 'Tomatometer Rating', 'Audience Rating']]\n",
    "outlier"
   ]
  },
  {
   "cell_type": "markdown",
   "id": "95a03649",
   "metadata": {},
   "source": [
    "Смотрим пределы выбросов"
   ]
  },
  {
   "cell_type": "code",
   "execution_count": 127,
   "id": "9ce59787-e39e-41ca-bb83-2fbacf9dd332",
   "metadata": {},
   "outputs": [
    {
     "data": {
      "text/plain": [
       "Movie Time            107.0\n",
       "IMDB Rating             7.3\n",
       "Tomatometer Rating     86.0\n",
       "Audience Rating        53.0\n",
       "Name: 0.25, dtype: float64"
      ]
     },
     "execution_count": 127,
     "metadata": {},
     "output_type": "execute_result"
    }
   ],
   "source": [
    "Q1 = outlier.quantile(0.25)\n",
    "Q1"
   ]
  },
  {
   "cell_type": "code",
   "execution_count": 128,
   "id": "e27a8bc2-fadf-4497-b36c-81f4de17ec57",
   "metadata": {},
   "outputs": [
    {
     "data": {
      "text/plain": [
       "Movie Time            136.5\n",
       "IMDB Rating             7.9\n",
       "Tomatometer Rating     94.0\n",
       "Audience Rating        88.0\n",
       "Name: 0.75, dtype: float64"
      ]
     },
     "execution_count": 128,
     "metadata": {},
     "output_type": "execute_result"
    }
   ],
   "source": [
    "Q3 = outlier.quantile(0.75)\n",
    "Q3"
   ]
  },
  {
   "cell_type": "markdown",
   "id": "230262a9",
   "metadata": {},
   "source": [
    "Составляем отфильтрованные данные"
   ]
  },
  {
   "cell_type": "code",
   "execution_count": 129,
   "id": "73b812c6-d784-4192-8986-990ea4768a8e",
   "metadata": {},
   "outputs": [
    {
     "data": {
      "text/html": [
       "<div>\n",
       "<style scoped>\n",
       "    .dataframe tbody tr th:only-of-type {\n",
       "        vertical-align: middle;\n",
       "    }\n",
       "\n",
       "    .dataframe tbody tr th {\n",
       "        vertical-align: top;\n",
       "    }\n",
       "\n",
       "    .dataframe thead th {\n",
       "        text-align: right;\n",
       "    }\n",
       "</style>\n",
       "<table border=\"1\" class=\"dataframe\">\n",
       "  <thead>\n",
       "    <tr style=\"text-align: right;\">\n",
       "      <th></th>\n",
       "      <th>Movie Time</th>\n",
       "      <th>IMDB Rating</th>\n",
       "      <th>Tomatometer Rating</th>\n",
       "      <th>Audience Rating</th>\n",
       "    </tr>\n",
       "  </thead>\n",
       "  <tbody>\n",
       "    <tr>\n",
       "      <th>0</th>\n",
       "      <td>144</td>\n",
       "      <td>7.5</td>\n",
       "      <td>93</td>\n",
       "      <td>78</td>\n",
       "    </tr>\n",
       "    <tr>\n",
       "      <th>1</th>\n",
       "      <td>110</td>\n",
       "      <td>7.7</td>\n",
       "      <td>88</td>\n",
       "      <td>52</td>\n",
       "    </tr>\n",
       "    <tr>\n",
       "      <th>2</th>\n",
       "      <td>84</td>\n",
       "      <td>6.7</td>\n",
       "      <td>88</td>\n",
       "      <td>52</td>\n",
       "    </tr>\n",
       "    <tr>\n",
       "      <th>7</th>\n",
       "      <td>113</td>\n",
       "      <td>7.4</td>\n",
       "      <td>88</td>\n",
       "      <td>52</td>\n",
       "    </tr>\n",
       "    <tr>\n",
       "      <th>8</th>\n",
       "      <td>152</td>\n",
       "      <td>8.1</td>\n",
       "      <td>88</td>\n",
       "      <td>52</td>\n",
       "    </tr>\n",
       "    <tr>\n",
       "      <th>...</th>\n",
       "      <td>...</td>\n",
       "      <td>...</td>\n",
       "      <td>...</td>\n",
       "      <td>...</td>\n",
       "    </tr>\n",
       "    <tr>\n",
       "      <th>566</th>\n",
       "      <td>131</td>\n",
       "      <td>6.9</td>\n",
       "      <td>88</td>\n",
       "      <td>52</td>\n",
       "    </tr>\n",
       "    <tr>\n",
       "      <th>567</th>\n",
       "      <td>115</td>\n",
       "      <td>7.5</td>\n",
       "      <td>88</td>\n",
       "      <td>52</td>\n",
       "    </tr>\n",
       "    <tr>\n",
       "      <th>568</th>\n",
       "      <td>113</td>\n",
       "      <td>7.5</td>\n",
       "      <td>88</td>\n",
       "      <td>52</td>\n",
       "    </tr>\n",
       "    <tr>\n",
       "      <th>569</th>\n",
       "      <td>120</td>\n",
       "      <td>7.8</td>\n",
       "      <td>88</td>\n",
       "      <td>52</td>\n",
       "    </tr>\n",
       "    <tr>\n",
       "      <th>570</th>\n",
       "      <td>129</td>\n",
       "      <td>7.8</td>\n",
       "      <td>88</td>\n",
       "      <td>52</td>\n",
       "    </tr>\n",
       "  </tbody>\n",
       "</table>\n",
       "<p>489 rows × 4 columns</p>\n",
       "</div>"
      ],
      "text/plain": [
       "     Movie Time  IMDB Rating  Tomatometer Rating  Audience Rating\n",
       "0           144          7.5                  93               78\n",
       "1           110          7.7                  88               52\n",
       "2            84          6.7                  88               52\n",
       "7           113          7.4                  88               52\n",
       "8           152          8.1                  88               52\n",
       "..          ...          ...                 ...              ...\n",
       "566         131          6.9                  88               52\n",
       "567         115          7.5                  88               52\n",
       "568         113          7.5                  88               52\n",
       "569         120          7.8                  88               52\n",
       "570         129          7.8                  88               52\n",
       "\n",
       "[489 rows x 4 columns]"
      ]
     },
     "execution_count": 129,
     "metadata": {},
     "output_type": "execute_result"
    }
   ],
   "source": [
    "IQR = Q3-Q1\n",
    "data_filtered = outlier[~((outlier < (Q1 - 1.5 * IQR)) |(outlier > (Q3 + 1.5 * IQR))).any(axis=1)]\n",
    "data_filtered"
   ]
  },
  {
   "cell_type": "markdown",
   "id": "e9f3d561",
   "metadata": {},
   "source": [
    "Копируем индексы"
   ]
  },
  {
   "cell_type": "code",
   "execution_count": 130,
   "id": "3b6785fe-592b-44d6-83de-a5c8e9da00a0",
   "metadata": {},
   "outputs": [],
   "source": [
    "index_list = list(data_filtered.index.values)"
   ]
  },
  {
   "cell_type": "code",
   "execution_count": 131,
   "id": "2af180dc-71f9-4953-b448-b09f0e692b1e",
   "metadata": {},
   "outputs": [
    {
     "data": {
      "text/html": [
       "<div>\n",
       "<style scoped>\n",
       "    .dataframe tbody tr th:only-of-type {\n",
       "        vertical-align: middle;\n",
       "    }\n",
       "\n",
       "    .dataframe tbody tr th {\n",
       "        vertical-align: top;\n",
       "    }\n",
       "\n",
       "    .dataframe thead th {\n",
       "        text-align: right;\n",
       "    }\n",
       "</style>\n",
       "<table border=\"1\" class=\"dataframe\">\n",
       "  <thead>\n",
       "    <tr style=\"text-align: right;\">\n",
       "      <th></th>\n",
       "      <th>Unnamed: 0</th>\n",
       "      <th>Film</th>\n",
       "      <th>Oscar Year</th>\n",
       "      <th>Film Studio/Producer(s)</th>\n",
       "      <th>Award</th>\n",
       "      <th>Year of Release</th>\n",
       "      <th>Movie Time</th>\n",
       "      <th>Movie Genre</th>\n",
       "      <th>IMDB Rating</th>\n",
       "      <th>IMDB Votes</th>\n",
       "      <th>...</th>\n",
       "      <th>Tomatometer Status</th>\n",
       "      <th>Tomatometer Rating</th>\n",
       "      <th>Tomatometer Count</th>\n",
       "      <th>Audience Status</th>\n",
       "      <th>Audience Rating</th>\n",
       "      <th>Audience Count</th>\n",
       "      <th>Tomatometer Top Critics Count</th>\n",
       "      <th>Tomatometer Fresh Critics Count</th>\n",
       "      <th>Tomatometer Rotten Critics Count</th>\n",
       "      <th>Film ID</th>\n",
       "    </tr>\n",
       "  </thead>\n",
       "  <tbody>\n",
       "    <tr>\n",
       "      <th>0</th>\n",
       "      <td>0</td>\n",
       "      <td>Wings</td>\n",
       "      <td>1927-01-01</td>\n",
       "      <td>Famous Players-Lasky</td>\n",
       "      <td>Winner</td>\n",
       "      <td>1927-01-01</td>\n",
       "      <td>144</td>\n",
       "      <td>Drama,Romance,War</td>\n",
       "      <td>7.5</td>\n",
       "      <td>12,221</td>\n",
       "      <td>...</td>\n",
       "      <td>Certified-Fresh</td>\n",
       "      <td>93</td>\n",
       "      <td>46</td>\n",
       "      <td>Upright</td>\n",
       "      <td>78</td>\n",
       "      <td>3530</td>\n",
       "      <td>9</td>\n",
       "      <td>43</td>\n",
       "      <td>3</td>\n",
       "      <td>2becf7d5-a3de-46ab-ae45-abdd6b588067</td>\n",
       "    </tr>\n",
       "    <tr>\n",
       "      <th>1</th>\n",
       "      <td>1</td>\n",
       "      <td>7th Heaven</td>\n",
       "      <td>1927-01-01</td>\n",
       "      <td>Fox</td>\n",
       "      <td>Nominee</td>\n",
       "      <td>1927-01-01</td>\n",
       "      <td>110</td>\n",
       "      <td>Drama,Romance</td>\n",
       "      <td>7.7</td>\n",
       "      <td>3,439</td>\n",
       "      <td>...</td>\n",
       "      <td>unknown</td>\n",
       "      <td>88</td>\n",
       "      <td>111</td>\n",
       "      <td>Spilled</td>\n",
       "      <td>52</td>\n",
       "      <td>66721</td>\n",
       "      <td>0</td>\n",
       "      <td>0</td>\n",
       "      <td>0</td>\n",
       "      <td>19ed3295-a878-4fd2-8e60-5cd7b5f93dad</td>\n",
       "    </tr>\n",
       "    <tr>\n",
       "      <th>2</th>\n",
       "      <td>2</td>\n",
       "      <td>The Racket</td>\n",
       "      <td>1927-01-01</td>\n",
       "      <td>The Caddo Company</td>\n",
       "      <td>Nominee</td>\n",
       "      <td>1928-01-01</td>\n",
       "      <td>84</td>\n",
       "      <td>Crime,Drama,Film-Noir</td>\n",
       "      <td>6.7</td>\n",
       "      <td>1,257</td>\n",
       "      <td>...</td>\n",
       "      <td>unknown</td>\n",
       "      <td>88</td>\n",
       "      <td>111</td>\n",
       "      <td>Spilled</td>\n",
       "      <td>52</td>\n",
       "      <td>66721</td>\n",
       "      <td>0</td>\n",
       "      <td>0</td>\n",
       "      <td>0</td>\n",
       "      <td>3111c2d8-0908-4093-8ff3-99c89f2f2f08</td>\n",
       "    </tr>\n",
       "    <tr>\n",
       "      <th>7</th>\n",
       "      <td>7</td>\n",
       "      <td>The Patriot</td>\n",
       "      <td>1928-01-01</td>\n",
       "      <td>Paramount Famous Lasky</td>\n",
       "      <td>Nominee</td>\n",
       "      <td>1928-01-01</td>\n",
       "      <td>113</td>\n",
       "      <td>Drama,History,Thriller</td>\n",
       "      <td>7.4</td>\n",
       "      <td>18</td>\n",
       "      <td>...</td>\n",
       "      <td>unknown</td>\n",
       "      <td>88</td>\n",
       "      <td>111</td>\n",
       "      <td>Spilled</td>\n",
       "      <td>52</td>\n",
       "      <td>66721</td>\n",
       "      <td>0</td>\n",
       "      <td>0</td>\n",
       "      <td>0</td>\n",
       "      <td>5d4ef7bd-2f81-47f3-9305-2c8fe140d4e4</td>\n",
       "    </tr>\n",
       "    <tr>\n",
       "      <th>8</th>\n",
       "      <td>8</td>\n",
       "      <td>All Quiet on the Western Front</td>\n",
       "      <td>1929-01-01</td>\n",
       "      <td>Universal</td>\n",
       "      <td>Winner</td>\n",
       "      <td>1930-01-01</td>\n",
       "      <td>152</td>\n",
       "      <td>Drama,War</td>\n",
       "      <td>8.1</td>\n",
       "      <td>59,214</td>\n",
       "      <td>...</td>\n",
       "      <td>unknown</td>\n",
       "      <td>88</td>\n",
       "      <td>111</td>\n",
       "      <td>Spilled</td>\n",
       "      <td>52</td>\n",
       "      <td>66721</td>\n",
       "      <td>0</td>\n",
       "      <td>0</td>\n",
       "      <td>0</td>\n",
       "      <td>281742f9-3b4e-480d-b704-c8c15de6b721</td>\n",
       "    </tr>\n",
       "  </tbody>\n",
       "</table>\n",
       "<p>5 rows × 30 columns</p>\n",
       "</div>"
      ],
      "text/plain": [
       "   Unnamed: 0                            Film Oscar Year  \\\n",
       "0           0                           Wings 1927-01-01   \n",
       "1           1                      7th Heaven 1927-01-01   \n",
       "2           2                      The Racket 1927-01-01   \n",
       "7           7                     The Patriot 1928-01-01   \n",
       "8           8  All Quiet on the Western Front 1929-01-01   \n",
       "\n",
       "  Film Studio/Producer(s)    Award Year of Release  Movie Time  \\\n",
       "0    Famous Players-Lasky   Winner      1927-01-01         144   \n",
       "1                     Fox  Nominee      1927-01-01         110   \n",
       "2       The Caddo Company  Nominee      1928-01-01          84   \n",
       "7  Paramount Famous Lasky  Nominee      1928-01-01         113   \n",
       "8               Universal   Winner      1930-01-01         152   \n",
       "\n",
       "              Movie Genre  IMDB Rating IMDB Votes  ... Tomatometer Status  \\\n",
       "0       Drama,Romance,War          7.5     12,221  ...    Certified-Fresh   \n",
       "1           Drama,Romance          7.7      3,439  ...            unknown   \n",
       "2   Crime,Drama,Film-Noir          6.7      1,257  ...            unknown   \n",
       "7  Drama,History,Thriller          7.4         18  ...            unknown   \n",
       "8               Drama,War          8.1     59,214  ...            unknown   \n",
       "\n",
       "  Tomatometer Rating Tomatometer Count Audience Status Audience Rating  \\\n",
       "0                 93                46         Upright              78   \n",
       "1                 88               111         Spilled              52   \n",
       "2                 88               111         Spilled              52   \n",
       "7                 88               111         Spilled              52   \n",
       "8                 88               111         Spilled              52   \n",
       "\n",
       "  Audience Count Tomatometer Top Critics Count  \\\n",
       "0           3530                             9   \n",
       "1          66721                             0   \n",
       "2          66721                             0   \n",
       "7          66721                             0   \n",
       "8          66721                             0   \n",
       "\n",
       "  Tomatometer Fresh Critics Count Tomatometer Rotten Critics Count  \\\n",
       "0                              43                                3   \n",
       "1                               0                                0   \n",
       "2                               0                                0   \n",
       "7                               0                                0   \n",
       "8                               0                                0   \n",
       "\n",
       "                                Film ID  \n",
       "0  2becf7d5-a3de-46ab-ae45-abdd6b588067  \n",
       "1  19ed3295-a878-4fd2-8e60-5cd7b5f93dad  \n",
       "2  3111c2d8-0908-4093-8ff3-99c89f2f2f08  \n",
       "7  5d4ef7bd-2f81-47f3-9305-2c8fe140d4e4  \n",
       "8  281742f9-3b4e-480d-b704-c8c15de6b721  \n",
       "\n",
       "[5 rows x 30 columns]"
      ]
     },
     "execution_count": 131,
     "metadata": {},
     "output_type": "execute_result"
    }
   ],
   "source": [
    "data_filtered = data[data.index.isin(index_list)]\n",
    "data_filtered.head()"
   ]
  },
  {
   "cell_type": "markdown",
   "id": "91d469ff",
   "metadata": {},
   "source": [
    "Смотрим гистрограммы без выбросов"
   ]
  },
  {
   "cell_type": "code",
   "execution_count": 132,
   "id": "47c2f94c-dd30-42fc-930f-0d2b20ab8b63",
   "metadata": {},
   "outputs": [
    {
     "data": {
      "image/png": "[encoded data removed]",
      "text/plain": [
       "<Figure size 640x480 with 1 Axes>"
      ]
     },
     "metadata": {},
     "output_type": "display_data"
    },
    {
     "data": {
      "image/png": "[encoded data removed]",
      "text/plain": [
       "<Figure size 640x480 with 1 Axes>"
      ]
     },
     "metadata": {},
     "output_type": "display_data"
    },
    {
     "data": {
      "image/png": "[encoded data removed]",
      "text/plain": [
       "<Figure size 640x480 with 1 Axes>"
      ]
     },
     "metadata": {},
     "output_type": "display_data"
    },
    {
     "data": {
      "image/png": "[encoded data removed]",
      "text/plain": [
       "<Figure size 640x480 with 1 Axes>"
      ]
     },
     "metadata": {},
     "output_type": "display_data"
    }
   ],
   "source": [
    "filtered_outlier = data_filtered[['Movie Time', 'IMDB Rating', 'Tomatometer Rating', 'Audience Rating']]\n",
    "\n",
    "for col in filtered_outlier:\n",
    "    data_filtered.hist(col, bins=100)"
   ]
  },
  {
   "cell_type": "markdown",
   "id": "2f16b787",
   "metadata": {},
   "source": [
    "Сравниваем значения с выбросами и без них"
   ]
  },
  {
   "cell_type": "code",
   "execution_count": 133,
   "id": "9fffc1b0-19be-4bd0-8317-388bdb3bad3e",
   "metadata": {},
   "outputs": [
    {
     "name": "stdout",
     "output_type": "stream",
     "text": [
      "[[<Axes: title={'center': 'Movie Time'}>]]\n",
      "[[<Axes: title={'center': 'Movie Time'}>]]\n"
     ]
    },
    {
     "data": {
      "image/png": "[encoded data removed]",
      "text/plain": [
       "<Figure size 640x480 with 1 Axes>"
      ]
     },
     "metadata": {},
     "output_type": "display_data"
    },
    {
     "data": {
      "image/png": "[encoded data removed]",
      "text/plain": [
       "<Figure size 640x480 with 1 Axes>"
      ]
     },
     "metadata": {},
     "output_type": "display_data"
    }
   ],
   "source": [
    "print (data.hist('Movie Time', bins=100))\n",
    "print (data_filtered.hist('Movie Time', bins=100))"
   ]
  },
  {
   "cell_type": "code",
   "execution_count": 134,
   "id": "eb8bb924-e5c3-442f-a6be-938d938a4442",
   "metadata": {},
   "outputs": [
    {
     "name": "stdout",
     "output_type": "stream",
     "text": [
      "[[<Axes: title={'center': 'IMDB Rating'}>]]\n",
      "[[<Axes: title={'center': 'IMDB Rating'}>]]\n"
     ]
    },
    {
     "data": {
      "image/png": "[encoded data removed]",
      "text/plain": [
       "<Figure size 640x480 with 1 Axes>"
      ]
     },
     "metadata": {},
     "output_type": "display_data"
    },
    {
     "data": {
      "image/png": "[encoded data removed]",
      "text/plain": [
       "<Figure size 640x480 with 1 Axes>"
      ]
     },
     "metadata": {},
     "output_type": "display_data"
    }
   ],
   "source": [
    "print (data.hist('IMDB Rating', bins=100))\n",
    "print (data_filtered.hist('IMDB Rating', bins=100))"
   ]
  },
  {
   "cell_type": "code",
   "execution_count": 135,
   "id": "5e1f8c28-1b8b-439c-b66f-24ededf17cc4",
   "metadata": {},
   "outputs": [
    {
     "name": "stdout",
     "output_type": "stream",
     "text": [
      "[[<Axes: title={'center': 'Tomatometer Rating'}>]]\n",
      "[[<Axes: title={'center': 'Tomatometer Rating'}>]]\n"
     ]
    },
    {
     "data": {
      "image/png": "[encoded data removed]",
      "text/plain": [
       "<Figure size 640x480 with 1 Axes>"
      ]
     },
     "metadata": {},
     "output_type": "display_data"
    },
    {
     "data": {
      "image/png": "[encoded data removed]",
      "text/plain": [
       "<Figure size 640x480 with 1 Axes>"
      ]
     },
     "metadata": {},
     "output_type": "display_data"
    }
   ],
   "source": [
    "print (data.hist('Tomatometer Rating', bins=100))\n",
    "print (data_filtered.hist('Tomatometer Rating', bins=100))"
   ]
  },
  {
   "cell_type": "code",
   "execution_count": 144,
   "id": "f9f41256-7607-4adb-b7a7-9c7707bae237",
   "metadata": {},
   "outputs": [
    {
     "name": "stdout",
     "output_type": "stream",
     "text": [
      "[[<Axes: title={'center': 'Audience Rating'}>]]\n",
      "[[<Axes: title={'center': 'Audience Rating'}>]]\n"
     ]
    },
    {
     "data": {
      "image/png": "[encoded data removed]",
      "text/plain": [
       "<Figure size 640x480 with 1 Axes>"
      ]
     },
     "metadata": {},
     "output_type": "display_data"
    },
    {
     "data": {
      "image/png": "[encoded data removed]",
      "text/plain": [
       "<Figure size 640x480 with 1 Axes>"
      ]
     },
     "metadata": {},
     "output_type": "display_data"
    }
   ],
   "source": [
    "print (data.hist('Audience Rating', bins=100))\n",
    "print (data_filtered.hist('Audience Rating', bins=100))"
   ]
  },
  {
   "cell_type": "code",
   "execution_count": 137,
   "id": "0864b31a-6f29-4e54-b527-c6b9340a3547",
   "metadata": {},
   "outputs": [
    {
     "data": {
      "text/html": [
       "<div>\n",
       "<style scoped>\n",
       "    .dataframe tbody tr th:only-of-type {\n",
       "        vertical-align: middle;\n",
       "    }\n",
       "\n",
       "    .dataframe tbody tr th {\n",
       "        vertical-align: top;\n",
       "    }\n",
       "\n",
       "    .dataframe thead th {\n",
       "        text-align: right;\n",
       "    }\n",
       "</style>\n",
       "<table border=\"1\" class=\"dataframe\">\n",
       "  <thead>\n",
       "    <tr style=\"text-align: right;\">\n",
       "      <th></th>\n",
       "      <th>Award</th>\n",
       "      <th>Film</th>\n",
       "    </tr>\n",
       "  </thead>\n",
       "  <tbody>\n",
       "    <tr>\n",
       "      <th>0</th>\n",
       "      <td>Nominee</td>\n",
       "      <td>416</td>\n",
       "    </tr>\n",
       "    <tr>\n",
       "      <th>1</th>\n",
       "      <td>Winner</td>\n",
       "      <td>73</td>\n",
       "    </tr>\n",
       "  </tbody>\n",
       "</table>\n",
       "</div>"
      ],
      "text/plain": [
       "     Award  Film\n",
       "0  Nominee   416\n",
       "1   Winner    73"
      ]
     },
     "execution_count": 137,
     "metadata": {},
     "output_type": "execute_result"
    }
   ],
   "source": [
    "award_ = data_filtered.pivot_table(index='Award', values='Film', aggfunc='count')\n",
    "award_ = award_.sort_values(ascending=False, by ='Film' )\n",
    "award_ = award_.reset_index()\n",
    "award_"
   ]
  },
  {
   "cell_type": "markdown",
   "id": "a3a9c945",
   "metadata": {},
   "source": [
    "Изучаем столбец с наградой"
   ]
  },
  {
   "cell_type": "code",
   "execution_count": 138,
   "id": "cb6f896e-ab15-460f-b883-3873e7fd9ab0",
   "metadata": {},
   "outputs": [
    {
     "data": {
      "text/plain": [
       "<Axes: xlabel='Award'>"
      ]
     },
     "execution_count": 138,
     "metadata": {},
     "output_type": "execute_result"
    },
    {
     "data": {
      "image/png": "[encoded data removed]",
      "text/plain": [
       "<Figure size 2000x700 with 1 Axes>"
      ]
     },
     "metadata": {},
     "output_type": "display_data"
    }
   ],
   "source": [
    "award_.plot(grid=True, figsize=(20, 7), kind = 'bar', x='Award',y='Film')"
   ]
  },
  {
   "cell_type": "markdown",
   "id": "d2f74f22",
   "metadata": {},
   "source": [
    "По фильтрованным данным составляем диаграмму рассеяния на основе столбца с наградами"
   ]
  },
  {
   "cell_type": "code",
   "execution_count": 139,
   "id": "74b3f38c-3aae-46b5-9708-60f073dda5cc",
   "metadata": {},
   "outputs": [],
   "source": [
    "nom = data_filtered.query('Award == \"Nominee\"')\n",
    "win = data_filtered.query('Award == \"Winner\"')"
   ]
  },
  {
   "cell_type": "code",
   "execution_count": 140,
   "id": "a5a5a26c-e68e-49f9-9e4c-db6503bd504d",
   "metadata": {
    "scrolled": true
   },
   "outputs": [
    {
     "data": {
      "text/plain": [
       "Text(0.5, 1.0, 'Winner')"
      ]
     },
     "execution_count": 140,
     "metadata": {},
     "output_type": "execute_result"
    },
    {
     "data": {
      "image/png": "[encoded data removed]",
      "text/plain": [
       "<Figure size 500x500 with 1 Axes>"
      ]
     },
     "metadata": {},
     "output_type": "display_data"
    },
    {
     "data": {
      "image/png": "[encoded data removed]",
      "text/plain": [
       "<Figure size 500x500 with 1 Axes>"
      ]
     },
     "metadata": {},
     "output_type": "display_data"
    }
   ],
   "source": [
    "sns.lmplot(x=\"Audience Rating\", y=\"Movie Time\", data=nom)\n",
    "plt.title('Nominee')\n",
    "sns.lmplot(x=\"Audience Rating\", y=\"Movie Time\", data=win)\n",
    "plt.title('Winner')"
   ]
  },
  {
   "cell_type": "markdown",
   "id": "fa07c116",
   "metadata": {},
   "source": [
    "Вычисляем корреляцию и выводим ее"
   ]
  },
  {
   "cell_type": "code",
   "execution_count": 141,
   "id": "1bf2e762-29b3-4087-9acf-32f5a741af02",
   "metadata": {},
   "outputs": [],
   "source": [
    "age_nom = nom[['Audience Rating','Movie Time']]\n",
    "corr_nom = age_nom.corr()\n",
    "age_win = win[['Audience Rating','Movie Time']]\n",
    "corr_win = age_win.corr()"
   ]
  },
  {
   "cell_type": "code",
   "execution_count": 142,
   "id": "e3e49d8c-70b9-49fa-a164-7acebc5116d8",
   "metadata": {},
   "outputs": [
    {
     "data": {
      "text/html": [
       "<div>\n",
       "<style scoped>\n",
       "    .dataframe tbody tr th:only-of-type {\n",
       "        vertical-align: middle;\n",
       "    }\n",
       "\n",
       "    .dataframe tbody tr th {\n",
       "        vertical-align: top;\n",
       "    }\n",
       "\n",
       "    .dataframe thead th {\n",
       "        text-align: right;\n",
       "    }\n",
       "</style>\n",
       "<table border=\"1\" class=\"dataframe\">\n",
       "  <thead>\n",
       "    <tr style=\"text-align: right;\">\n",
       "      <th></th>\n",
       "      <th>Audience Rating</th>\n",
       "      <th>Movie Time</th>\n",
       "    </tr>\n",
       "  </thead>\n",
       "  <tbody>\n",
       "    <tr>\n",
       "      <th>Audience Rating</th>\n",
       "      <td>1.000</td>\n",
       "      <td>0.164</td>\n",
       "    </tr>\n",
       "    <tr>\n",
       "      <th>Movie Time</th>\n",
       "      <td>0.164</td>\n",
       "      <td>1.000</td>\n",
       "    </tr>\n",
       "  </tbody>\n",
       "</table>\n",
       "</div>"
      ],
      "text/plain": [
       "                 Audience Rating  Movie Time\n",
       "Audience Rating            1.000       0.164\n",
       "Movie Time                 0.164       1.000"
      ]
     },
     "execution_count": 142,
     "metadata": {},
     "output_type": "execute_result"
    }
   ],
   "source": [
    "round(corr_nom,3)"
   ]
  },
  {
   "cell_type": "code",
   "execution_count": 143,
   "id": "7f9a79e2-a773-4dfd-ac55-371c4337f91e",
   "metadata": {},
   "outputs": [
    {
     "data": {
      "text/html": [
       "<div>\n",
       "<style scoped>\n",
       "    .dataframe tbody tr th:only-of-type {\n",
       "        vertical-align: middle;\n",
       "    }\n",
       "\n",
       "    .dataframe tbody tr th {\n",
       "        vertical-align: top;\n",
       "    }\n",
       "\n",
       "    .dataframe thead th {\n",
       "        text-align: right;\n",
       "    }\n",
       "</style>\n",
       "<table border=\"1\" class=\"dataframe\">\n",
       "  <thead>\n",
       "    <tr style=\"text-align: right;\">\n",
       "      <th></th>\n",
       "      <th>Audience Rating</th>\n",
       "      <th>Movie Time</th>\n",
       "    </tr>\n",
       "  </thead>\n",
       "  <tbody>\n",
       "    <tr>\n",
       "      <th>Audience Rating</th>\n",
       "      <td>1.000</td>\n",
       "      <td>-0.008</td>\n",
       "    </tr>\n",
       "    <tr>\n",
       "      <th>Movie Time</th>\n",
       "      <td>-0.008</td>\n",
       "      <td>1.000</td>\n",
       "    </tr>\n",
       "  </tbody>\n",
       "</table>\n",
       "</div>"
      ],
      "text/plain": [
       "                 Audience Rating  Movie Time\n",
       "Audience Rating            1.000      -0.008\n",
       "Movie Time                -0.008       1.000"
      ]
     },
     "execution_count": 143,
     "metadata": {},
     "output_type": "execute_result"
    }
   ],
   "source": [
    "round(corr_win,3)"
   ]
  },
  {
   "cell_type": "code",
   "execution_count": null,
   "id": "8001cc46-68e9-4931-9c46-3241b9fb4b6a",
   "metadata": {},
   "outputs": [],
   "source": []
  }
 ],
 "metadata": {
  "kernelspec": {
   "display_name": "Python 3 (ipykernel)",
   "language": "python",
   "name": "python3"
  },
  "language_info": {
   "codemirror_mode": {
    "name": "ipython",
    "version": 3
   },
   "file_extension": ".py",
   "mimetype": "text/x-python",
   "name": "python",
   "nbconvert_exporter": "python",
   "pygments_lexer": "ipython3",
   "version": "3.11.4"
  }
 },
 "nbformat": 4,
 "nbformat_minor": 5
}
