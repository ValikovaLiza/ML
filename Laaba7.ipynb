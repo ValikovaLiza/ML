{
 "cells": [
  {
   "cell_type": "code",
   "execution_count": 27,
   "id": "bb99247e-5d90-4f89-b49b-0796c06cf8e0",
   "metadata": {},
   "outputs": [],
   "source": [
    "import pandas as pd\n",
    "import matplotlib.pyplot as plt\n",
    "import numpy as np\n",
    "import seaborn as sns\n",
    "import warnings\n",
    "from imblearn.under_sampling import NearMiss\n",
    "from sklearn.model_selection import train_test_split\n",
    "from sklearn.preprocessing import StandardScaler\n",
    "\n",
    "from sklearn.metrics import mean_squared_error, mean_absolute_error\n",
    "from sklearn.metrics import confusion_matrix, classification_report\n",
    "\n",
    "import tensorflow as tf\n",
    "import numpy as np"
   ]
  },
  {
   "cell_type": "markdown",
   "id": "ee4f79db-de36-422a-ac96-8fc46d2e5fc3",
   "metadata": {},
   "source": [
    "# Regression"
   ]
  },
  {
   "cell_type": "code",
   "execution_count": 23,
   "id": "509aa124-82f7-4a37-bfe2-7172f09eb81e",
   "metadata": {},
   "outputs": [],
   "source": [
    "df_regression = pd.read_csv('DataSet3_fil.csv')\n",
    "df_regression.drop('Unnamed: 0',axis=1, inplace=True)"
   ]
  },
  {
   "cell_type": "code",
   "execution_count": 24,
   "id": "e8da477b-2c83-4c4f-92ee-847cc63cd767",
   "metadata": {},
   "outputs": [],
   "source": [
    "y_regression = df_regression[\"price\"]\n",
    "X_regression = df_regression.drop([\"price\"], axis=1)"
   ]
  },
  {
   "cell_type": "code",
   "execution_count": 25,
   "id": "30c0ad6d-da60-4940-b5a6-87b9a1855b9e",
   "metadata": {},
   "outputs": [],
   "source": [
    "X_train_regression, X_test_regression, y_train_regression, y_test_regression = train_test_split(X_regression, y_regression, test_size=0.2)"
   ]
  },
  {
   "cell_type": "code",
   "execution_count": 35,
   "id": "e5b384dd-a402-4010-be1a-3333abd851ff",
   "metadata": {},
   "outputs": [],
   "source": [
    "# создаем модель, как набор последовательных слоев\n",
    "model_regression = tf.keras.Sequential(\n",
    "    [\n",
    "        # Dense - полносвязный слой (каждый нейрон следующего слоя связан со всеми нейронами предыдущего)\n",
    "        tf.keras.layers.Dense(64, activation=\"relu\", input_shape=(13,)),\n",
    "        # на втором скрытом слое будет 32 нейрона\n",
    "        tf.keras.layers.Dense(32, activation=\"linear\"),\n",
    "        # Dropout позволяет внести фактор случайности - при обучении часть нейронов будет отключаться\n",
    "        # каждый нейрон, в данном случае, будет отключаться с вероятностью 0.1\n",
    "        tf.keras.layers.Dropout(0.1),\n",
    "        tf.keras.layers.Dense(16, activation=\"relu\"),\n",
    "        tf.keras.layers.Dropout(0.1),\n",
    "        # на выходе один нейрон, функция активации не применяется\n",
    "        tf.keras.layers.Dense(1, activation=\"linear\"),\n",
    "    ]\n",
    ")"
   ]
  },
  {
   "cell_type": "code",
   "execution_count": 36,
   "id": "dae3c56f-20dc-4faf-92fc-94894306b12a",
   "metadata": {},
   "outputs": [
    {
     "name": "stdout",
     "output_type": "stream",
     "text": [
      "Model: \"sequential_1\"\n",
      "_________________________________________________________________\n",
      " Layer (type)                Output Shape              Param #   \n",
      "=================================================================\n",
      " dense_4 (Dense)             (None, 64)                896       \n",
      "                                                                 \n",
      " dense_5 (Dense)             (None, 32)                2080      \n",
      "                                                                 \n",
      " dropout_2 (Dropout)         (None, 32)                0         \n",
      "                                                                 \n",
      " dense_6 (Dense)             (None, 16)                528       \n",
      "                                                                 \n",
      " dropout_3 (Dropout)         (None, 16)                0         \n",
      "                                                                 \n",
      " dense_7 (Dense)             (None, 1)                 17        \n",
      "                                                                 \n",
      "=================================================================\n",
      "Total params: 3521 (13.75 KB)\n",
      "Trainable params: 3521 (13.75 KB)\n",
      "Non-trainable params: 0 (0.00 Byte)\n",
      "_________________________________________________________________\n"
     ]
    }
   ],
   "source": [
    "model_regression.summary()"
   ]
  },
  {
   "cell_type": "code",
   "execution_count": 37,
   "id": "9446643b-c260-4fc7-aada-8ce9a9a3dfb5",
   "metadata": {},
   "outputs": [],
   "source": [
    "# компилируем\n",
    "model_regression.compile(optimizer=tf.keras.optimizers.Adam(learning_rate=0.005), loss=\"mse\")"
   ]
  },
  {
   "cell_type": "code",
   "execution_count": 38,
   "id": "b7a913e9-ade7-406e-9911-3ce672d23874",
   "metadata": {},
   "outputs": [],
   "source": [
    "X_train_regression = X_train_regression.astype('float32')\n",
    "y_train_regression = y_train_regression.astype('float32')"
   ]
  },
  {
   "cell_type": "code",
   "execution_count": 40,
   "id": "b488a168-59b2-4a99-8767-8c78f913176a",
   "metadata": {},
   "outputs": [
    {
     "data": {
      "text/plain": [
       "<keras.src.callbacks.History at 0x23e6b9a4750>"
      ]
     },
     "execution_count": 40,
     "metadata": {},
     "output_type": "execute_result"
    }
   ],
   "source": [
    "# обучаем, 10 эпох означает 10 проходов по обучающей выборке\n",
    "model_regression.fit(X_train_regression, y_train_regression, epochs=50, verbose=None)"
   ]
  },
  {
   "cell_type": "code",
   "execution_count": 41,
   "id": "e4fb3da7-0db2-43b2-85d9-aae92d4b1073",
   "metadata": {},
   "outputs": [],
   "source": [
    "X_test_regression = X_train_regression.astype('float32')\n",
    "y_test_regression = y_train_regression.astype('float32')"
   ]
  },
  {
   "cell_type": "code",
   "execution_count": 42,
   "id": "f624d77b-1768-40f1-8d2b-b81ec1faf406",
   "metadata": {},
   "outputs": [
    {
     "name": "stdout",
     "output_type": "stream",
     "text": [
      "156/156 [==============================] - 1s 2ms/step\n"
     ]
    }
   ],
   "source": [
    "y_pred_regression = model_regression.predict(X_test_regression)"
   ]
  },
  {
   "cell_type": "code",
   "execution_count": 43,
   "id": "353c1d3a-d6a7-4076-95da-cac87a814d5a",
   "metadata": {},
   "outputs": [
    {
     "name": "stdout",
     "output_type": "stream",
     "text": [
      "10897280.0\n",
      "350402160000000.0\n",
      "0.5055344899512042\n"
     ]
    }
   ],
   "source": [
    "from sklearn.metrics import r2_score\n",
    "# оцениваем качество с помощью метрик\n",
    "print(mean_absolute_error(y_test_regression, y_pred_regression))\n",
    "print(mean_squared_error(y_test_regression, y_pred_regression))\n",
    "print(r2_score(y_test_regression, y_pred_regression))"
   ]
  },
  {
   "cell_type": "markdown",
   "id": "ef733fad-cfc0-400d-b9bd-e8faf491e344",
   "metadata": {},
   "source": [
    "# Classification"
   ]
  },
  {
   "cell_type": "code",
   "execution_count": 44,
   "id": "4232f64a-7572-4779-8988-5cf1a3d6dc26",
   "metadata": {},
   "outputs": [],
   "source": [
    "df_classifier = pd.read_csv('DataSet4_fil.csv')\n",
    "df_classifier.drop('Unnamed: 0',axis=1, inplace=True)\n",
    "df_classifier = df_classifier.drop('UTC', axis=1)\n",
    "\n",
    "dict_firealarm = {\"Yes\": 1, \"No\": 0}\n",
    "df_classifier[\"Fire Alarm\"] = df_classifier[\"Fire Alarm\"].map(dict_firealarm)"
   ]
  },
  {
   "cell_type": "code",
   "execution_count": 45,
   "id": "9d7a29e3-79cc-436e-a30c-e1d9dea69a81",
   "metadata": {},
   "outputs": [],
   "source": [
    "scaler = StandardScaler()\n",
    "df_scaler = scaler.fit_transform(df_classifier.drop([\"Fire Alarm\"], axis=1))"
   ]
  },
  {
   "cell_type": "code",
   "execution_count": 46,
   "id": "39bc6c79-77b9-4207-96bb-ad245a8730b3",
   "metadata": {},
   "outputs": [],
   "source": [
    "from imblearn.under_sampling import NearMiss\n",
    "nm = NearMiss()\n",
    "X_classifier, y_classifier = nm.fit_resample(X_classifier, y_classifier.ravel())"
   ]
  },
  {
   "cell_type": "code",
   "execution_count": 47,
   "id": "4256db5c-03e4-4a11-9a0d-7e5d00550b3e",
   "metadata": {},
   "outputs": [],
   "source": [
    "y_classifier = df_classifier[\"Fire Alarm\"]\n",
    "X_classifier = df_scaler\n",
    "X_classifier, _, y_classifier, _ = train_test_split(X_classifier, y_classifier, test_size=0.9, random_state=42)\n"
   ]
  },
  {
   "cell_type": "code",
   "execution_count": 48,
   "id": "d77d2532-16c8-4236-9415-36af617a1a04",
   "metadata": {},
   "outputs": [],
   "source": [
    "X_train_classifier, X_test_classifier, y_train_classifier, y_test_classifier = train_test_split(X_classifier, y_classifier, test_size=0.2)"
   ]
  },
  {
   "cell_type": "code",
   "execution_count": 52,
   "id": "0c88a786-bce5-4e34-809e-b0817daaaa6a",
   "metadata": {},
   "outputs": [],
   "source": [
    "model_classification = tf.keras.Sequential(\n",
    "    [\n",
    "        tf.keras.layers.Dense(64, activation=\"relu\", input_shape=(14,)),\n",
    "        tf.keras.layers.Dense(128, activation=\"relu\"),\n",
    "        tf.keras.layers.Dropout(0.05),\n",
    "        tf.keras.layers.Dense(64, activation=\"relu\"),\n",
    "        tf.keras.layers.Dense(32, activation=\"relu\"),\n",
    "        tf.keras.layers.Dense(16, activation=\"relu\"),\n",
    "        # используем 1 нейрон и sigmoid\n",
    "        tf.keras.layers.Dense(1, activation=\"sigmoid\"),\n",
    "    ]\n",
    ")"
   ]
  },
  {
   "cell_type": "code",
   "execution_count": 53,
   "id": "e1f3ba84-24bc-430d-9435-513aed1632e7",
   "metadata": {},
   "outputs": [],
   "source": [
    "X_train_classifier = X_train_classifier.astype('float32')\n",
    "y_train_classifier = y_train_classifier.astype('float32')"
   ]
  },
  {
   "cell_type": "code",
   "execution_count": 54,
   "id": "6b6d8822-4759-4d74-b874-5498c4242ebd",
   "metadata": {},
   "outputs": [
    {
     "data": {
      "text/plain": [
       "<keras.src.callbacks.History at 0x23e6dd63ed0>"
      ]
     },
     "execution_count": 54,
     "metadata": {},
     "output_type": "execute_result"
    }
   ],
   "source": [
    "# в качестве функции активации используется бинарная  кроссэнтропия\n",
    "model_classification.compile(optimizer=tf.keras.optimizers.Adam(learning_rate=0.001), loss=\"mse\")\n",
    "# verbose=None - не будет логов\n",
    "model_classification.fit(X_train_classifier, y_train_classifier, epochs=100, verbose=None)"
   ]
  },
  {
   "cell_type": "code",
   "execution_count": 56,
   "id": "7bf563c3-b5c8-4eef-a71e-af335266ebbf",
   "metadata": {},
   "outputs": [],
   "source": [
    "X_test_classifier = X_test_classifier.astype('float32')\n",
    "y_test_classifier = y_test_classifier.astype('float32')"
   ]
  },
  {
   "cell_type": "code",
   "execution_count": 57,
   "id": "b26d859e-ac31-4964-8428-993208669beb",
   "metadata": {},
   "outputs": [],
   "source": [
    "# Предсказание на тестовых данных\n",
    "y_pred_classifier = [np.argmax(pred) for pred in model_classification.predict(X_test_classifier, verbose=None)]"
   ]
  },
  {
   "cell_type": "code",
   "execution_count": 58,
   "id": "31104b5a-6c8b-48d7-a047-c3a6ac71238b",
   "metadata": {},
   "outputs": [
    {
     "name": "stdout",
     "output_type": "stream",
     "text": [
      "Accuracy: 0.2849162011173184\n"
     ]
    }
   ],
   "source": [
    "from sklearn.metrics import accuracy_score\n",
    "accuracy = accuracy_score(y_test_classifier, y_pred_classifier)\n",
    "print(\"Accuracy:\", accuracy)"
   ]
  },
  {
   "cell_type": "code",
   "execution_count": 60,
   "id": "59a4fae8-e513-400f-9281-f6c73afbe643",
   "metadata": {},
   "outputs": [
    {
     "name": "stdout",
     "output_type": "stream",
     "text": [
      "              precision    recall  f1-score   support\n",
      "\n",
      "         0.0       0.28      1.00      0.44       357\n",
      "         1.0       0.00      0.00      0.00       896\n",
      "\n",
      "    accuracy                           0.28      1253\n",
      "   macro avg       0.14      0.50      0.22      1253\n",
      "weighted avg       0.08      0.28      0.13      1253\n",
      "\n"
     ]
    }
   ],
   "source": [
    "print(classification_report(y_test_classifier, y_pred_classifier, zero_division=0))"
   ]
  },
  {
   "cell_type": "markdown",
   "id": "2700b575-0cbc-4b8a-922f-0e769bf8cb73",
   "metadata": {},
   "source": [
    "# MLP"
   ]
  },
  {
   "cell_type": "code",
   "execution_count": 78,
   "id": "33c649ad-5d05-4621-891a-9a7ea24e5234",
   "metadata": {},
   "outputs": [],
   "source": [
    "import numpy as np\n",
    "\n",
    "class MLP:\n",
    "    def __init__(self, layer_sizes, activation_functions):\n",
    "        self.num_layers = len(layer_sizes)\n",
    "        self.layer_sizes = layer_sizes\n",
    "        self.activation_functions = activation_functions\n",
    "        self.weights = [np.random.randn(layer_sizes[i], layer_sizes[i-1]) for i in range(1, self.num_layers)]\n",
    "        self.biases = [np.random.randn(layer_sizes[i], 1) for i in range(1, self.num_layers)]\n",
    "\n",
    "    def _sigmoid(self, x):\n",
    "        return 1.0 / (1.0 + np.exp(-x))\n",
    "\n",
    "    def _sigmoid_derivative(self, x):\n",
    "        return self._sigmoid(x) * (1 - self._sigmoid(x))\n",
    "\n",
    "    def _tanh(self, x):\n",
    "        return np.tanh(x)\n",
    "\n",
    "    def _tanh_derivative(self, x):\n",
    "        return 1 - np.tanh(x)**2\n",
    "\n",
    "    def _relu(self, x):\n",
    "        return np.maximum(0, x)\n",
    "\n",
    "    def _relu_derivative(self, x):\n",
    "        return np.where(x > 0, 1, 0)\n",
    "\n",
    "    def _feed_forward(self, x):\n",
    "        # х-ый элеменет\n",
    "        activations = [x]\n",
    "        zs = []\n",
    "        for i in range(self.num_layers - 1):\n",
    "            weight = self.weights[i]\n",
    "            bias = self.biases[i]\n",
    "            activation_fn = self.activation_functions[i]\n",
    "            #умножаем матрицу весов на вектор активаций последнего слоя + вектор смещения\n",
    "            z = np.dot(weight, activations[-1]) + bias\n",
    "            zs.append(z)\n",
    "            if activation_fn == 'sigmoid':\n",
    "                a = self._sigmoid(z)\n",
    "            elif activation_fn == 'tanh':\n",
    "                a = self._tanh(z)\n",
    "            elif activation_fn == 'relu':\n",
    "                a = self._relu(z)\n",
    "            activations.append(a)\n",
    "        return activations, zs\n",
    "\n",
    "    def _backpropagate(self, x, y):\n",
    "        delta_weights = [np.zeros(weight.shape) for weight in self.weights]\n",
    "        delta_biases = [np.zeros(bias.shape) for bias in self.biases]\n",
    "        activations, zs = self._feed_forward(x)\n",
    "        delta = (activations[-1] - y)  # derivative of the loss function\n",
    "        for i in range(self.num_layers - 2, -1, -1):\n",
    "            z = zs[i]\n",
    "            activation_fn = self.activation_functions[i]\n",
    "            if activation_fn == 'sigmoid':\n",
    "                derivative = self._sigmoid_derivative(z)\n",
    "            elif activation_fn == 'tanh':\n",
    "                derivative = self._tanh_derivative(z)\n",
    "            elif activation_fn == 'relu':\n",
    "                derivative = self._relu_derivative(z)\n",
    "            delta_weights[i] = np.dot(delta, activations[i].T)\n",
    "            delta_biases[i] = delta\n",
    "            delta = np.dot(self.weights[i].T, delta) * derivative\n",
    "        return delta_weights, delta_biases\n",
    "\n",
    "    def fit(self, X_train, y_train, learning_rate, num_epochs):\n",
    "        for epoch in range(num_epochs):\n",
    "            for x, y in zip(X_train, y_train):\n",
    "                x = np.array(x, ndmin=2).T\n",
    "                y = np.array(y, ndmin=2).T\n",
    "                delta_weights, delta_biases = self._backpropagate(x, y)\n",
    "                self.weights = [weight - learning_rate * d_weight for weight, d_weight in zip(self.weights, delta_weights)]\n",
    "                self.biases = [bias - learning_rate * d_bias for bias, d_bias in zip(self.biases, delta_biases)]\n",
    "\n",
    "    def predict(self, X_test):\n",
    "        predictions = []\n",
    "        for x in X_test:\n",
    "            # массив минимум 2мерный и транспонируем\n",
    "            x = np.array(x, ndmin=2).T\n",
    "            activations, _ = self._feed_forward(x)\n",
    "            predictions.append(activations[-1])\n",
    "        return predictions"
   ]
  },
  {
   "cell_type": "code",
   "execution_count": 101,
   "id": "a0d3187f-c538-44dc-8baa-60bcd9413fed",
   "metadata": {},
   "outputs": [
    {
     "name": "stderr",
     "output_type": "stream",
     "text": [
      "C:\\Users\\liza5\\AppData\\Local\\Temp\\ipykernel_6240\\375874291.py:12: RuntimeWarning: overflow encountered in exp\n",
      "  return 1.0 / (1.0 + np.exp(-x))\n"
     ]
    }
   ],
   "source": [
    "X_train_regression = np.asarray(X_train_regression, dtype=np.float64)\n",
    "y_train_regression = np.asarray(y_train_regression, dtype=np.float64).reshape(-1, 1)\n",
    "# Создание объекта MLP для регрессии\n",
    "mlp_regression = MLP([13, 1, 1], ['sigmoid', 'sigmoid'])\n",
    "\n",
    "# Обучаем модель\n",
    "mlp_regression.fit(X_train_regression, y_train_regression, learning_rate=0.05, num_epochs=10)\n",
    "\n",
    "X_test_regression = np.asarray(X_test_regression, dtype=np.float64)\n",
    "# Получаем предсказания модели\n",
    "predictions_regression = mlp_regression.predict(X_test_regression)"
   ]
  },
  {
   "cell_type": "code",
   "execution_count": 108,
   "id": "ed74c95b-f67c-47f0-a6ed-2d3dffa8e6c8",
   "metadata": {},
   "outputs": [],
   "source": [
    "predictions_regression = np.asarray(predictions_regression, dtype=np.float64).reshape(-1, 1)"
   ]
  },
  {
   "cell_type": "code",
   "execution_count": 109,
   "id": "66ba33fd-4a6f-466d-b8e0-ad8812149c07",
   "metadata": {},
   "outputs": [
    {
     "name": "stdout",
     "output_type": "stream",
     "text": [
      "26554378.635197435\n",
      "1413783283471718.5\n",
      "-0.995042344314857\n"
     ]
    }
   ],
   "source": [
    "y_test_regression = np.asarray(y_test_regression, dtype=np.float64).reshape(-1, 1)\n",
    "from sklearn.metrics import r2_score\n",
    "print(mean_absolute_error(y_test_regression, predictions_regression))\n",
    "print(mean_squared_error(y_test_regression, predictions_regression))\n",
    "print(r2_score(y_test_regression, predictions_regression))"
   ]
  },
  {
   "cell_type": "code",
   "execution_count": 135,
   "id": "eaf1185f-a60d-4d9b-9e19-71a2602ae95d",
   "metadata": {},
   "outputs": [
    {
     "data": {
      "text/plain": [
       "1253"
      ]
     },
     "execution_count": 135,
     "metadata": {},
     "output_type": "execute_result"
    }
   ],
   "source": [
    "len(X_test_classifier)"
   ]
  },
  {
   "cell_type": "code",
   "execution_count": 121,
   "id": "bfac279c-1a42-4531-8505-3addb9e1ad95",
   "metadata": {},
   "outputs": [],
   "source": [
    "mlp_classifier = MLP([14, 1, 1, 1], ['tanh', 'relu', 'sigmoid'])\n",
    "\n",
    "mlp_classifier.fit(X_train_classifier, y_train_classifier, learning_rate=0.05, num_epochs=10)\n",
    "\n",
    "X_test_classifier = np.asarray(X_test_classifier, dtype=np.float64)\n",
    "# Получаем предсказания модели\n",
    "predictions_classifier = mlp_classifier.predict(X_test_classifier)"
   ]
  },
  {
   "cell_type": "code",
   "execution_count": 129,
   "id": "ecf02c74-0fc0-4a69-ad76-81d0b1c43b85",
   "metadata": {},
   "outputs": [],
   "source": [
    "predictions_classifier=np.asarray(predictions_classifier, dtype=np.float64).reshape(-1, 1)"
   ]
  },
  {
   "cell_type": "code",
   "execution_count": 137,
   "id": "957ce70a-fc66-488a-8da3-04731880c497",
   "metadata": {},
   "outputs": [
    {
     "data": {
      "text/plain": [
       "4989"
      ]
     },
     "execution_count": 137,
     "metadata": {},
     "output_type": "execute_result"
    }
   ],
   "source": [
    "len(predictions_classifier)"
   ]
  },
  {
   "cell_type": "code",
   "execution_count": 136,
   "id": "5c1ae3b8-411a-4f3c-9510-74c239913515",
   "metadata": {},
   "outputs": [
    {
     "name": "stdout",
     "output_type": "stream",
     "text": [
      "Accuracy: 0.7150837988826816\n"
     ]
    }
   ],
   "source": [
    "from sklearn.metrics import accuracy_score\n",
    "accuracy = accuracy_score(y_test_classifier, predictions_classifier[:1253])\n",
    "print(\"Accuracy:\", accuracy)"
   ]
  },
  {
   "cell_type": "code",
   "execution_count": null,
   "id": "31e29854-4395-4986-b098-a69dac72576f",
   "metadata": {},
   "outputs": [],
   "source": []
  }
 ],
 "metadata": {
  "kernelspec": {
   "display_name": "Python 3 (ipykernel)",
   "language": "python",
   "name": "python3"
  },
  "language_info": {
   "codemirror_mode": {
    "name": "ipython",
    "version": 3
   },
   "file_extension": ".py",
   "mimetype": "text/x-python",
   "name": "python",
   "nbconvert_exporter": "python",
   "pygments_lexer": "ipython3",
   "version": "3.11.4"
  }
 },
 "nbformat": 4,
 "nbformat_minor": 5
}
